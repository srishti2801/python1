{
 "cells": [
  {
   "cell_type": "code",
   "execution_count": 2,
   "metadata": {},
   "outputs": [
    {
     "name": "stdout",
     "output_type": "stream",
     "text": [
      "You see an apple seller\n",
      "You dont purchase apples\n"
     ]
    }
   ],
   "source": [
    "print('You see an apple seller')\n",
    "q=input('Do you like apples?')\n",
    "if q== 'yes' :\n",
    "    print('Purchase 2kg of apples')\n",
    "if q== 'no' :\n",
    "    print('You dont purchase apples')"
   ]
  },
  {
   "cell_type": "code",
   "execution_count": 3,
   "metadata": {},
   "outputs": [
    {
     "name": "stdout",
     "output_type": "stream",
     "text": [
      "x is greater than 5\n",
      "this is the info we needed\n",
      "with this power,comes great responsibility\n",
      "the end\n"
     ]
    }
   ],
   "source": [
    "x=10\n",
    "if x>5:\n",
    "    print('x is greater than 5')\n",
    "    print('this is the info we needed')\n",
    "    print('with this power,comes great responsibility')\n",
    "print('the end') "
   ]
  },
  {
   "cell_type": "code",
   "execution_count": 4,
   "metadata": {},
   "outputs": [
    {
     "name": "stdout",
     "output_type": "stream",
     "text": [
      "the end\n"
     ]
    }
   ],
   "source": [
    "x=4\n",
    "if x>5:\n",
    "    print('x is greater than 5')\n",
    "    print('this is the info we needed')\n",
    "    print('with this power,comes great responsibility')\n",
    "print('the end') "
   ]
  },
  {
   "cell_type": "code",
   "execution_count": 6,
   "metadata": {},
   "outputs": [
    {
     "name": "stdout",
     "output_type": "stream",
     "text": [
      "Wear long pants.\n",
      "Get some exercise outside.\n"
     ]
    }
   ],
   "source": [
    "temp=float(input('What is the temperature?'))\n",
    "if temp>70:\n",
    "    print('Wear shorts.')\n",
    "else:\n",
    "    print('Wear long pants.')\n",
    "print('Get some exercise outside.')"
   ]
  },
  {
   "cell_type": "code",
   "execution_count": 7,
   "metadata": {},
   "outputs": [
    {
     "name": "stdout",
     "output_type": "stream",
     "text": [
      "Wear shorts.\n",
      "Get some exercise outside.\n"
     ]
    }
   ],
   "source": [
    "temp=float(input('What is the temperature?'))\n",
    "if temp>70:\n",
    "    print('Wear shorts.')\n",
    "else:\n",
    "    print('Wear long pants.')\n",
    "print('Get some exercise outside.')"
   ]
  },
  {
   "cell_type": "code",
   "execution_count": 13,
   "metadata": {},
   "outputs": [
    {
     "name": "stdout",
     "output_type": "stream",
     "text": [
      "A\n"
     ]
    }
   ],
   "source": [
    "score=int(input('your score ->'))\n",
    "if score>=90:\n",
    "    letter= 'A'\n",
    "elif score>=80:\n",
    "    letter= 'B'\n",
    "elif score>=70:\n",
    "    letter= 'C'\n",
    "elif score>=60:\n",
    "    letter= 'D'\n",
    "else:\n",
    "    letter= 'F'\n",
    "print(letter)"
   ]
  },
  {
   "cell_type": "code",
   "execution_count": 14,
   "metadata": {},
   "outputs": [
    {
     "name": "stdout",
     "output_type": "stream",
     "text": [
      "Well done\n"
     ]
    }
   ],
   "source": [
    "if 42 in range(100): print(\"Well done\")"
   ]
  },
  {
   "cell_type": "code",
   "execution_count": 15,
   "metadata": {},
   "outputs": [],
   "source": [
    "if 142 in range(100): print(\"Well done\")"
   ]
  },
  {
   "cell_type": "code",
   "execution_count": 19,
   "metadata": {},
   "outputs": [
    {
     "name": "stdout",
     "output_type": "stream",
     "text": [
      "24\n"
     ]
    }
   ],
   "source": [
    "a=int(input('enter a number'))\n",
    "if a>10: a*=2\n",
    "print(a)"
   ]
  },
  {
   "cell_type": "code",
   "execution_count": 20,
   "metadata": {},
   "outputs": [
    {
     "name": "stdout",
     "output_type": "stream",
     "text": [
      "Alice\n"
     ]
    }
   ],
   "source": [
    "x= \"Alice\" if \"Jon\" in \"My name is Jonas\" else \"Bob\"\n",
    "print(x)"
   ]
  },
  {
   "cell_type": "code",
   "execution_count": 21,
   "metadata": {},
   "outputs": [
    {
     "name": "stdout",
     "output_type": "stream",
     "text": [
      "42\n"
     ]
    }
   ],
   "source": [
    "print(\"42\") if 42 in [22,33,42] else print(\"21\")"
   ]
  },
  {
   "cell_type": "code",
   "execution_count": 24,
   "metadata": {},
   "outputs": [
    {
     "name": "stdout",
     "output_type": "stream",
     "text": [
      "Its hot\n"
     ]
    }
   ],
   "source": [
    "temp=int(input('Enter the temperature'))\n",
    "print(\"Its cool\") if temp<25 else print(\"Its hot\")"
   ]
  },
  {
   "cell_type": "code",
   "execution_count": null,
   "metadata": {},
   "outputs": [],
   "source": []
  }
 ],
 "metadata": {
  "kernelspec": {
   "display_name": "Python 3.9.12 ('base')",
   "language": "python",
   "name": "python3"
  },
  "language_info": {
   "codemirror_mode": {
    "name": "ipython",
    "version": 3
   },
   "file_extension": ".py",
   "mimetype": "text/x-python",
   "name": "python",
   "nbconvert_exporter": "python",
   "pygments_lexer": "ipython3",
   "version": "3.9.12"
  },
  "orig_nbformat": 4,
  "vscode": {
   "interpreter": {
    "hash": "193aa6218da7f76a59dc2bd6ea87d2b224c2417ad29cdf12ab4b4772313a8948"
   }
  }
 },
 "nbformat": 4,
 "nbformat_minor": 2
}
