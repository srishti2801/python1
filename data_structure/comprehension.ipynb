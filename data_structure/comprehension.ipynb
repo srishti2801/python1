{
 "cells": [
  {
   "cell_type": "code",
   "execution_count": 3,
   "metadata": {},
   "outputs": [
    {
     "name": "stdout",
     "output_type": "stream",
     "text": [
      "[23, 49, 56, 71, 80]\n",
      "[529, 2401, 3136, 5041, 6400]\n"
     ]
    }
   ],
   "source": [
    "x = [23,49,56,71,80]\n",
    "x2 = []\n",
    "for i in x:\n",
    "    sqr = i**2\n",
    "    x2.append(sqr)\n",
    "print(x)\n",
    "print(x2)"
   ]
  },
  {
   "cell_type": "code",
   "execution_count": 5,
   "metadata": {},
   "outputs": [
    {
     "name": "stdout",
     "output_type": "stream",
     "text": [
      "[529, 2401, 3136, 5041, 6400]\n"
     ]
    }
   ],
   "source": [
    "x3 = [i**2 for i in x]   # comprehension\n",
    "print(x3)"
   ]
  },
  {
   "cell_type": "markdown",
   "metadata": {},
   "source": [
    "***syntax for comprehension :***  `newlist = [operation loop condition]`"
   ]
  },
  {
   "cell_type": "markdown",
   "metadata": {},
   "source": [
    "### use comprehension when you want to create a list from an existing list"
   ]
  },
  {
   "cell_type": "code",
   "execution_count": 6,
   "metadata": {},
   "outputs": [
    {
     "name": "stdout",
     "output_type": "stream",
     "text": [
      "[2, 8, 6, 2, 10]\n"
     ]
    }
   ],
   "source": [
    "a = [2,5,8,1,6,2,5,10]\n",
    "even_a = [i for i in a if i%2==0]\n",
    "print(even_a)"
   ]
  },
  {
   "cell_type": "code",
   "execution_count": 7,
   "metadata": {},
   "outputs": [
    {
     "name": "stdout",
     "output_type": "stream",
     "text": [
      "['AS', 'ST', 'SM']\n"
     ]
    }
   ],
   "source": [
    "names = ['Aparna Sharma','Satyam Tiwari','Srishti Mishra']\n",
    "initial_names = [f'{n.split()[0][0]}{n.split()[-1][0]}' for n in names]\n",
    "print(initial_names)"
   ]
  },
  {
   "cell_type": "code",
   "execution_count": 9,
   "metadata": {},
   "outputs": [
    {
     "name": "stdout",
     "output_type": "stream",
     "text": [
      "{1, 2, 3, 23, 41, 123, 31}\n"
     ]
    }
   ],
   "source": [
    "x = {1,2,3,41,23,123,1,31,123,23}\n",
    "print(x)"
   ]
  },
  {
   "cell_type": "code",
   "execution_count": 10,
   "metadata": {},
   "outputs": [
    {
     "name": "stdout",
     "output_type": "stream",
     "text": [
      "{1, 2, 3, 23, 41, 123, 31} {1, 1860867, 12167, 8, 68921, 27, 29791}\n"
     ]
    }
   ],
   "source": [
    "x3 = {i**3 for i in x}\n",
    "print(x,x3)"
   ]
  },
  {
   "cell_type": "code",
   "execution_count": 11,
   "metadata": {},
   "outputs": [],
   "source": [
    "rainfall = {\n",
    "    '2001': 350,\n",
    "    '2002': 420,\n",
    "    '2003': 510,\n",
    "    '2004': 600,\n",
    "    '2005': 700,\n",
    "}"
   ]
  },
  {
   "cell_type": "code",
   "execution_count": 12,
   "metadata": {},
   "outputs": [
    {
     "name": "stdout",
     "output_type": "stream",
     "text": [
      "{'2001': 0.5, '2002': 0.6, '2003': 0.7285714285714285, '2004': 0.8571428571428571, '2005': 1.0}\n"
     ]
    }
   ],
   "source": [
    "rainfall_norm = {i[0]:i[1]/700 for i in rainfall.items()}\n",
    "print(rainfall_norm)"
   ]
  },
  {
   "cell_type": "markdown",
   "metadata": {},
   "source": [
    "### wap to create a program that takes a list of numbers and then generate a list of all even nums and odd nums separated using comprehension"
   ]
  },
  {
   "cell_type": "code",
   "execution_count": 16,
   "metadata": {},
   "outputs": [
    {
     "name": "stdout",
     "output_type": "stream",
     "text": [
      "[1, 2, 3, 4, 5, 6, 7, 8, 9, 10]\n",
      "[2, 4, 6, 8, 10]\n",
      "[1, 3, 5, 7, 9]\n"
     ]
    }
   ],
   "source": [
    "num =[]\n",
    "for j in range(10):\n",
    "    val= int(input('Enter a no.'))\n",
    "    num.append(val)\n",
    "print(num)\n",
    "even_a = [ i for i in num if i%2==0]\n",
    "print(even_a)\n",
    "odd_a = [i for i in num if i%2!=0]\n",
    "print(odd_a)"
   ]
  },
  {
   "cell_type": "code",
   "execution_count": null,
   "metadata": {},
   "outputs": [],
   "source": []
  }
 ],
 "metadata": {
  "kernelspec": {
   "display_name": "Python 3.9.12 ('base')",
   "language": "python",
   "name": "python3"
  },
  "language_info": {
   "codemirror_mode": {
    "name": "ipython",
    "version": 3
   },
   "file_extension": ".py",
   "mimetype": "text/x-python",
   "name": "python",
   "nbconvert_exporter": "python",
   "pygments_lexer": "ipython3",
   "version": "3.9.12"
  },
  "orig_nbformat": 4,
  "vscode": {
   "interpreter": {
    "hash": "193aa6218da7f76a59dc2bd6ea87d2b224c2417ad29cdf12ab4b4772313a8948"
   }
  }
 },
 "nbformat": 4,
 "nbformat_minor": 2
}
