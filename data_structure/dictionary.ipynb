{
 "cells": [
  {
   "cell_type": "markdown",
   "metadata": {},
   "source": [
    "Why do we need dict?"
   ]
  },
  {
   "cell_type": "markdown",
   "metadata": {},
   "source": [
    "list are ineficient for searching and storing meaningful data\n",
    "### dictionary is a collection of key value pairs"
   ]
  },
  {
   "cell_type": "code",
   "execution_count": 7,
   "metadata": {},
   "outputs": [
    {
     "name": "stdout",
     "output_type": "stream",
     "text": [
      "{'Alan': 30, 'Brian': 50, 'Charles': 60, 'David': 70, 'Eric': 80, 'Frank': 90}\n"
     ]
    }
   ],
   "source": [
    "marks_dict = {'Alan':30, 'Brian':50, 'Charles':60, 'David':70, 'Eric':80, 'Frank':90}\n",
    "print(marks_dict)"
   ]
  },
  {
   "cell_type": "code",
   "execution_count": 8,
   "metadata": {},
   "outputs": [
    {
     "name": "stdout",
     "output_type": "stream",
     "text": [
      "Charles got 60\n",
      "we are adding grace marks for Alan\n",
      "new marks for Alan is 45\n"
     ]
    }
   ],
   "source": [
    "print('Charles got', marks_dict['Charles'])      # get value of Charles\n",
    "print(\"we are adding grace marks for Alan\")\n",
    "marks_dict['Alan']= 45\n",
    "print('new marks for Alan is', marks_dict['Alan'])"
   ]
  },
  {
   "cell_type": "code",
   "execution_count": 9,
   "metadata": {},
   "outputs": [],
   "source": [
    "marks_dict_v2 = {\n",
    "    'student 1': {\n",
    "        'name': 'Alan',\n",
    "        'cgpa': 8.3\n",
    "    },\n",
    "    'student 2': {\n",
    "        'name': 'Brian',\n",
    "        'cgpa': 7.5\n",
    "    },\n",
    "    'student 3': {\n",
    "        'name': 'Charles',\n",
    "        'cgpa': 9.0\n",
    "    }\n",
    "}"
   ]
  },
  {
   "cell_type": "code",
   "execution_count": 10,
   "metadata": {},
   "outputs": [
    {
     "name": "stdout",
     "output_type": "stream",
     "text": [
      "{'name': 'Alan', 'cgpa': 8.3}\n"
     ]
    }
   ],
   "source": [
    "print(marks_dict_v2['student 1'])"
   ]
  },
  {
   "cell_type": "code",
   "execution_count": 12,
   "metadata": {},
   "outputs": [
    {
     "name": "stdout",
     "output_type": "stream",
     "text": [
      "Alan\n"
     ]
    }
   ],
   "source": [
    "print(marks_dict_v2['student 1']['name'])"
   ]
  },
  {
   "cell_type": "code",
   "execution_count": 13,
   "metadata": {},
   "outputs": [
    {
     "name": "stdout",
     "output_type": "stream",
     "text": [
      "8.3\n"
     ]
    }
   ],
   "source": [
    "print(marks_dict_v2['student 1']['cgpa'])"
   ]
  },
  {
   "cell_type": "code",
   "execution_count": 15,
   "metadata": {},
   "outputs": [],
   "source": [
    "# create a dictionary to store movie name,year,rating and overview\n",
    "movie_dict = {\n",
    "    'movie 1': {\n",
    "        'name': 'Jab We Met',\n",
    "        'year': 2006,\n",
    "        'rating': 7.8,\n",
    "        'overview': 'romantic and good'\n",
    "    },\n",
    "    'movie 2': {\n",
    "        'name': 'Yeh Jawaani Hai Deewani',\n",
    "        'year': 2015,\n",
    "        'rating': 8.2,\n",
    "        'overview': 'travel and romance'\n",
    "    },\n",
    "    'movie 3': {\n",
    "        'name': 'Hera Pheri',\n",
    "        'year': 2004,\n",
    "        'rating': 9.0,\n",
    "        'overview': 'comedy treat'\n",
    "    }\n",
    "}"
   ]
  },
  {
   "cell_type": "markdown",
   "metadata": {},
   "source": [
    "### accessing elements from dictionary"
   ]
  },
  {
   "cell_type": "code",
   "execution_count": 16,
   "metadata": {},
   "outputs": [
    {
     "name": "stdout",
     "output_type": "stream",
     "text": [
      "Jack\n"
     ]
    }
   ],
   "source": [
    "my_dict = {'name': 'Jack', 'age': 26}\n",
    "print(my_dict['name'])"
   ]
  },
  {
   "cell_type": "code",
   "execution_count": 17,
   "metadata": {},
   "outputs": [
    {
     "name": "stdout",
     "output_type": "stream",
     "text": [
      "26\n"
     ]
    }
   ],
   "source": [
    "print(my_dict.get('age'))      # get function can also be used for accessing elements"
   ]
  },
  {
   "cell_type": "code",
   "execution_count": null,
   "metadata": {},
   "outputs": [],
   "source": [
    "print(my_dict['address'])      # will throw error as key does not exist"
   ]
  },
  {
   "cell_type": "code",
   "execution_count": 19,
   "metadata": {},
   "outputs": [
    {
     "name": "stdout",
     "output_type": "stream",
     "text": [
      "None\n"
     ]
    }
   ],
   "source": [
    "print(my_dict.get('address'))    # get function does not throw error if key does not exist"
   ]
  },
  {
   "cell_type": "code",
   "execution_count": 20,
   "metadata": {},
   "outputs": [
    {
     "name": "stdout",
     "output_type": "stream",
     "text": [
      "7.8\n"
     ]
    }
   ],
   "source": [
    "print(movie_dict.get('movie 1').get('rating'))"
   ]
  },
  {
   "cell_type": "markdown",
   "metadata": {},
   "source": [
    "#### updating an element"
   ]
  },
  {
   "cell_type": "code",
   "execution_count": 21,
   "metadata": {},
   "outputs": [
    {
     "name": "stdout",
     "output_type": "stream",
     "text": [
      "{'movie 1': {'name': 'Jab We Met', 'year': 2006, 'rating': 8.5, 'overview': 'romantic and good'}, 'movie 2': {'name': 'Yeh Jawaani Hai Deewani', 'year': 2015, 'rating': 8.2, 'overview': 'travel and romance'}, 'movie 3': {'name': 'Hera Pheri', 'year': 2004, 'rating': 9.0, 'overview': 'comedy treat'}}\n"
     ]
    }
   ],
   "source": [
    "movie_dict['movie 1']['rating']= 8.5\n",
    "print(movie_dict)"
   ]
  },
  {
   "cell_type": "markdown",
   "metadata": {},
   "source": [
    "### adding an element"
   ]
  },
  {
   "cell_type": "code",
   "execution_count": 22,
   "metadata": {},
   "outputs": [
    {
     "name": "stdout",
     "output_type": "stream",
     "text": [
      "{'movie 1': {'name': 'Jab We Met', 'year': 2006, 'rating': 8.5, 'overview': 'romantic and good'}, 'movie 2': {'name': 'Yeh Jawaani Hai Deewani', 'year': 2015, 'rating': 8.2, 'overview': 'travel and romance', 'production': 'Dharma'}, 'movie 3': {'name': 'Hera Pheri', 'year': 2004, 'rating': 9.0, 'overview': 'comedy treat'}}\n"
     ]
    }
   ],
   "source": [
    "movie_dict['movie 2']['production']= 'Dharma'\n",
    "print(movie_dict)"
   ]
  },
  {
   "cell_type": "markdown",
   "metadata": {},
   "source": [
    "### removing an element"
   ]
  },
  {
   "cell_type": "code",
   "execution_count": 28,
   "metadata": {},
   "outputs": [],
   "source": [
    "squares = {1:1, 2:4, 3:9, 4:16, 5:25}"
   ]
  },
  {
   "cell_type": "code",
   "execution_count": 24,
   "metadata": {},
   "outputs": [
    {
     "name": "stdout",
     "output_type": "stream",
     "text": [
      "16\n"
     ]
    }
   ],
   "source": [
    "print(squares.pop(4))  # remove a particular item, returns its value"
   ]
  },
  {
   "cell_type": "code",
   "execution_count": 25,
   "metadata": {},
   "outputs": [
    {
     "name": "stdout",
     "output_type": "stream",
     "text": [
      "(5, 25)\n"
     ]
    }
   ],
   "source": [
    "print(squares.popitem())  # remove an arbitrary item, return (key,value)"
   ]
  },
  {
   "cell_type": "code",
   "execution_count": 26,
   "metadata": {},
   "outputs": [],
   "source": [
    "squares.clear()   # remove all items"
   ]
  },
  {
   "cell_type": "markdown",
   "metadata": {},
   "source": [
    "### iterating through a dictionary"
   ]
  },
  {
   "cell_type": "code",
   "execution_count": 29,
   "metadata": {},
   "outputs": [
    {
     "name": "stdout",
     "output_type": "stream",
     "text": [
      "1\n",
      "2\n",
      "3\n",
      "4\n",
      "5\n"
     ]
    }
   ],
   "source": [
    "# only keys\n",
    "for i in squares:\n",
    "    print(i)"
   ]
  },
  {
   "cell_type": "code",
   "execution_count": 30,
   "metadata": {},
   "outputs": [
    {
     "name": "stdout",
     "output_type": "stream",
     "text": [
      "1\n",
      "4\n",
      "9\n",
      "16\n",
      "25\n"
     ]
    }
   ],
   "source": [
    "# only values using i as key\n",
    "for i in squares:\n",
    "    print(squares[i])"
   ]
  },
  {
   "cell_type": "code",
   "execution_count": 31,
   "metadata": {},
   "outputs": [
    {
     "name": "stdout",
     "output_type": "stream",
     "text": [
      "1 1\n",
      "2 4\n",
      "3 9\n",
      "4 16\n",
      "5 25\n"
     ]
    }
   ],
   "source": [
    "# using items() function to get both key and value\n",
    "for k,v in squares.items():\n",
    "    print(k,v)"
   ]
  },
  {
   "cell_type": "code",
   "execution_count": 32,
   "metadata": {},
   "outputs": [
    {
     "name": "stdout",
     "output_type": "stream",
     "text": [
      "movie 1\n",
      "----------\n",
      "name => Jab We Met\n",
      "year => 2006\n",
      "rating => 8.5\n",
      "overview => romantic and good\n",
      "----------\n",
      "movie 2\n",
      "----------\n",
      "name => Yeh Jawaani Hai Deewani\n",
      "year => 2015\n",
      "rating => 8.2\n",
      "overview => travel and romance\n",
      "production => Dharma\n",
      "----------\n",
      "movie 3\n",
      "----------\n",
      "name => Hera Pheri\n",
      "year => 2004\n",
      "rating => 9.0\n",
      "overview => comedy treat\n",
      "----------\n"
     ]
    }
   ],
   "source": [
    "for name,detail in movie_dict.items():\n",
    "    print(name)\n",
    "    print('----------')\n",
    "    for k,v in detail.items():\n",
    "        print(k, '=>' ,v)\n",
    "    print('----------')"
   ]
  },
  {
   "cell_type": "code",
   "execution_count": null,
   "metadata": {},
   "outputs": [],
   "source": []
  }
 ],
 "metadata": {
  "kernelspec": {
   "display_name": "Python 3.9.12 ('base')",
   "language": "python",
   "name": "python3"
  },
  "language_info": {
   "codemirror_mode": {
    "name": "ipython",
    "version": 3
   },
   "file_extension": ".py",
   "mimetype": "text/x-python",
   "name": "python",
   "nbconvert_exporter": "python",
   "pygments_lexer": "ipython3",
   "version": "3.9.12"
  },
  "orig_nbformat": 4,
  "vscode": {
   "interpreter": {
    "hash": "193aa6218da7f76a59dc2bd6ea87d2b224c2417ad29cdf12ab4b4772313a8948"
   }
  }
 },
 "nbformat": 4,
 "nbformat_minor": 2
}
