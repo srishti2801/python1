{
 "cells": [
  {
   "cell_type": "markdown",
   "metadata": {},
   "source": [
    "## numpy and pandas"
   ]
  },
  {
   "cell_type": "code",
   "execution_count": 1,
   "metadata": {},
   "outputs": [],
   "source": [
    "import numpy as np\n",
    "import pandas as pd"
   ]
  },
  {
   "cell_type": "code",
   "execution_count": 2,
   "metadata": {},
   "outputs": [],
   "source": [
    "x = [1,2,3,4,4,3,5,6,8,5]\n",
    "nx = np.array(x)"
   ]
  },
  {
   "cell_type": "code",
   "execution_count": 3,
   "metadata": {},
   "outputs": [
    {
     "name": "stdout",
     "output_type": "stream",
     "text": [
      "[1 2 3 4 4 3 5 6 8 5]\n"
     ]
    }
   ],
   "source": [
    "print(nx)"
   ]
  },
  {
   "cell_type": "code",
   "execution_count": 4,
   "metadata": {},
   "outputs": [
    {
     "data": {
      "text/plain": [
       "array([[1, 2, 3],\n",
       "       [4, 5, 6]])"
      ]
     },
     "execution_count": 4,
     "metadata": {},
     "output_type": "execute_result"
    }
   ],
   "source": [
    "ny = np.array([[1,2,3],[4,5,6]])\n",
    "ny"
   ]
  },
  {
   "cell_type": "code",
   "execution_count": 5,
   "metadata": {},
   "outputs": [
    {
     "name": "stdout",
     "output_type": "stream",
     "text": [
      "(2, 3)\n"
     ]
    }
   ],
   "source": [
    "print(ny.shape)"
   ]
  },
  {
   "cell_type": "code",
   "execution_count": 6,
   "metadata": {},
   "outputs": [],
   "source": [
    "one = np.arange(1,100,.2)"
   ]
  },
  {
   "cell_type": "code",
   "execution_count": 7,
   "metadata": {},
   "outputs": [
    {
     "name": "stdout",
     "output_type": "stream",
     "text": [
      "[ 1.   1.2  1.4  1.6  1.8  2.   2.2  2.4  2.6  2.8  3.   3.2  3.4  3.6\n",
      "  3.8  4.   4.2  4.4  4.6  4.8  5.   5.2  5.4  5.6  5.8  6.   6.2  6.4\n",
      "  6.6  6.8  7.   7.2  7.4  7.6  7.8  8.   8.2  8.4  8.6  8.8  9.   9.2\n",
      "  9.4  9.6  9.8 10.  10.2 10.4 10.6 10.8 11.  11.2 11.4 11.6 11.8 12.\n",
      " 12.2 12.4 12.6 12.8 13.  13.2 13.4 13.6 13.8 14.  14.2 14.4 14.6 14.8\n",
      " 15.  15.2 15.4 15.6 15.8 16.  16.2 16.4 16.6 16.8 17.  17.2 17.4 17.6\n",
      " 17.8 18.  18.2 18.4 18.6 18.8 19.  19.2 19.4 19.6 19.8 20.  20.2 20.4\n",
      " 20.6 20.8 21.  21.2 21.4 21.6 21.8 22.  22.2 22.4 22.6 22.8 23.  23.2\n",
      " 23.4 23.6 23.8 24.  24.2 24.4 24.6 24.8 25.  25.2 25.4 25.6 25.8 26.\n",
      " 26.2 26.4 26.6 26.8 27.  27.2 27.4 27.6 27.8 28.  28.2 28.4 28.6 28.8\n",
      " 29.  29.2 29.4 29.6 29.8 30.  30.2 30.4 30.6 30.8 31.  31.2 31.4 31.6\n",
      " 31.8 32.  32.2 32.4 32.6 32.8 33.  33.2 33.4 33.6 33.8 34.  34.2 34.4\n",
      " 34.6 34.8 35.  35.2 35.4 35.6 35.8 36.  36.2 36.4 36.6 36.8 37.  37.2\n",
      " 37.4 37.6 37.8 38.  38.2 38.4 38.6 38.8 39.  39.2 39.4 39.6 39.8 40.\n",
      " 40.2 40.4 40.6 40.8 41.  41.2 41.4 41.6 41.8 42.  42.2 42.4 42.6 42.8\n",
      " 43.  43.2 43.4 43.6 43.8 44.  44.2 44.4 44.6 44.8 45.  45.2 45.4 45.6\n",
      " 45.8 46.  46.2 46.4 46.6 46.8 47.  47.2 47.4 47.6 47.8 48.  48.2 48.4\n",
      " 48.6 48.8 49.  49.2 49.4 49.6 49.8 50.  50.2 50.4 50.6 50.8 51.  51.2\n",
      " 51.4 51.6 51.8 52.  52.2 52.4 52.6 52.8 53.  53.2 53.4 53.6 53.8 54.\n",
      " 54.2 54.4 54.6 54.8 55.  55.2 55.4 55.6 55.8 56.  56.2 56.4 56.6 56.8\n",
      " 57.  57.2 57.4 57.6 57.8 58.  58.2 58.4 58.6 58.8 59.  59.2 59.4 59.6\n",
      " 59.8 60.  60.2 60.4 60.6 60.8 61.  61.2 61.4 61.6 61.8 62.  62.2 62.4\n",
      " 62.6 62.8 63.  63.2 63.4 63.6 63.8 64.  64.2 64.4 64.6 64.8 65.  65.2\n",
      " 65.4 65.6 65.8 66.  66.2 66.4 66.6 66.8 67.  67.2 67.4 67.6 67.8 68.\n",
      " 68.2 68.4 68.6 68.8 69.  69.2 69.4 69.6 69.8 70.  70.2 70.4 70.6 70.8\n",
      " 71.  71.2 71.4 71.6 71.8 72.  72.2 72.4 72.6 72.8 73.  73.2 73.4 73.6\n",
      " 73.8 74.  74.2 74.4 74.6 74.8 75.  75.2 75.4 75.6 75.8 76.  76.2 76.4\n",
      " 76.6 76.8 77.  77.2 77.4 77.6 77.8 78.  78.2 78.4 78.6 78.8 79.  79.2\n",
      " 79.4 79.6 79.8 80.  80.2 80.4 80.6 80.8 81.  81.2 81.4 81.6 81.8 82.\n",
      " 82.2 82.4 82.6 82.8 83.  83.2 83.4 83.6 83.8 84.  84.2 84.4 84.6 84.8\n",
      " 85.  85.2 85.4 85.6 85.8 86.  86.2 86.4 86.6 86.8 87.  87.2 87.4 87.6\n",
      " 87.8 88.  88.2 88.4 88.6 88.8 89.  89.2 89.4 89.6 89.8 90.  90.2 90.4\n",
      " 90.6 90.8 91.  91.2 91.4 91.6 91.8 92.  92.2 92.4 92.6 92.8 93.  93.2\n",
      " 93.4 93.6 93.8 94.  94.2 94.4 94.6 94.8 95.  95.2 95.4 95.6 95.8 96.\n",
      " 96.2 96.4 96.6 96.8 97.  97.2 97.4 97.6 97.8 98.  98.2 98.4 98.6 98.8\n",
      " 99.  99.2 99.4 99.6 99.8]\n"
     ]
    }
   ],
   "source": [
    "print(one)"
   ]
  },
  {
   "cell_type": "code",
   "execution_count": 8,
   "metadata": {},
   "outputs": [
    {
     "name": "stdout",
     "output_type": "stream",
     "text": [
      "495\n"
     ]
    }
   ],
   "source": [
    "print(one.size)"
   ]
  },
  {
   "cell_type": "code",
   "execution_count": 9,
   "metadata": {},
   "outputs": [],
   "source": [
    "two = np.linspace(1,100,200)"
   ]
  },
  {
   "cell_type": "code",
   "execution_count": 10,
   "metadata": {},
   "outputs": [
    {
     "name": "stdout",
     "output_type": "stream",
     "text": [
      "[  1.           1.49748744   1.99497487   2.49246231   2.98994975\n",
      "   3.48743719   3.98492462   4.48241206   4.9798995    5.47738693\n",
      "   5.97487437   6.47236181   6.96984925   7.46733668   7.96482412\n",
      "   8.46231156   8.95979899   9.45728643   9.95477387  10.45226131\n",
      "  10.94974874  11.44723618  11.94472362  12.44221106  12.93969849\n",
      "  13.43718593  13.93467337  14.4321608   14.92964824  15.42713568\n",
      "  15.92462312  16.42211055  16.91959799  17.41708543  17.91457286\n",
      "  18.4120603   18.90954774  19.40703518  19.90452261  20.40201005\n",
      "  20.89949749  21.39698492  21.89447236  22.3919598   22.88944724\n",
      "  23.38693467  23.88442211  24.38190955  24.87939698  25.37688442\n",
      "  25.87437186  26.3718593   26.86934673  27.36683417  27.86432161\n",
      "  28.36180905  28.85929648  29.35678392  29.85427136  30.35175879\n",
      "  30.84924623  31.34673367  31.84422111  32.34170854  32.83919598\n",
      "  33.33668342  33.83417085  34.33165829  34.82914573  35.32663317\n",
      "  35.8241206   36.32160804  36.81909548  37.31658291  37.81407035\n",
      "  38.31155779  38.80904523  39.30653266  39.8040201   40.30150754\n",
      "  40.79899497  41.29648241  41.79396985  42.29145729  42.78894472\n",
      "  43.28643216  43.7839196   44.28140704  44.77889447  45.27638191\n",
      "  45.77386935  46.27135678  46.76884422  47.26633166  47.7638191\n",
      "  48.26130653  48.75879397  49.25628141  49.75376884  50.25125628\n",
      "  50.74874372  51.24623116  51.74371859  52.24120603  52.73869347\n",
      "  53.2361809   53.73366834  54.23115578  54.72864322  55.22613065\n",
      "  55.72361809  56.22110553  56.71859296  57.2160804   57.71356784\n",
      "  58.21105528  58.70854271  59.20603015  59.70351759  60.20100503\n",
      "  60.69849246  61.1959799   61.69346734  62.19095477  62.68844221\n",
      "  63.18592965  63.68341709  64.18090452  64.67839196  65.1758794\n",
      "  65.67336683  66.17085427  66.66834171  67.16582915  67.66331658\n",
      "  68.16080402  68.65829146  69.15577889  69.65326633  70.15075377\n",
      "  70.64824121  71.14572864  71.64321608  72.14070352  72.63819095\n",
      "  73.13567839  73.63316583  74.13065327  74.6281407   75.12562814\n",
      "  75.62311558  76.12060302  76.61809045  77.11557789  77.61306533\n",
      "  78.11055276  78.6080402   79.10552764  79.60301508  80.10050251\n",
      "  80.59798995  81.09547739  81.59296482  82.09045226  82.5879397\n",
      "  83.08542714  83.58291457  84.08040201  84.57788945  85.07537688\n",
      "  85.57286432  86.07035176  86.5678392   87.06532663  87.56281407\n",
      "  88.06030151  88.55778894  89.05527638  89.55276382  90.05025126\n",
      "  90.54773869  91.04522613  91.54271357  92.04020101  92.53768844\n",
      "  93.03517588  93.53266332  94.03015075  94.52763819  95.02512563\n",
      "  95.52261307  96.0201005   96.51758794  97.01507538  97.51256281\n",
      "  98.01005025  98.50753769  99.00502513  99.50251256 100.        ]\n"
     ]
    }
   ],
   "source": [
    "print(two)"
   ]
  },
  {
   "cell_type": "code",
   "execution_count": 11,
   "metadata": {},
   "outputs": [],
   "source": [
    "n3 = np.random.rand(100)"
   ]
  },
  {
   "cell_type": "code",
   "execution_count": 12,
   "metadata": {},
   "outputs": [
    {
     "data": {
      "text/plain": [
       "array([0.12848245, 0.02018461, 0.36190365, 0.19654852, 0.81388447,\n",
       "       0.12777205, 0.1376051 , 0.18410591, 0.24222432, 0.35107724,\n",
       "       0.1669961 , 0.26833729, 0.56964003, 0.52182154, 0.62725009,\n",
       "       0.56441639, 0.9722732 , 0.65377338, 0.12361183, 0.06620933,\n",
       "       0.06326565, 0.37138731, 0.64310055, 0.65911229, 0.72309702,\n",
       "       0.29532727, 0.88713097, 0.96936991, 0.39246946, 0.60155939,\n",
       "       0.78757561, 0.47080515, 0.93310481, 0.27276896, 0.03134587,\n",
       "       0.05138775, 0.78602558, 0.58020351, 0.07849055, 0.11765796,\n",
       "       0.90904437, 0.77303345, 0.73480796, 0.22984356, 0.18834413,\n",
       "       0.4983105 , 0.51772088, 0.37858399, 0.31755421, 0.7532821 ,\n",
       "       0.0433833 , 0.25027994, 0.76178194, 0.69613641, 0.03878918,\n",
       "       0.80673344, 0.21559307, 0.43194336, 0.93466441, 0.17911179,\n",
       "       0.1802047 , 0.16572296, 0.31212573, 0.57616802, 0.54625943,\n",
       "       0.04181342, 0.45703361, 0.85889795, 0.71580133, 0.27036885,\n",
       "       0.00843484, 0.41498033, 0.61711542, 0.198787  , 0.31125348,\n",
       "       0.20137113, 0.12982929, 0.93793779, 0.87785628, 0.99386205,\n",
       "       0.3997243 , 0.93230841, 0.04696503, 0.47394563, 0.05148876,\n",
       "       0.56124547, 0.50615326, 0.24634062, 0.94924401, 0.81092158,\n",
       "       0.84911777, 0.67551362, 0.65212173, 0.01492252, 0.83862846,\n",
       "       0.84256961, 0.36606168, 0.06311639, 0.75194369, 0.61070752])"
      ]
     },
     "execution_count": 12,
     "metadata": {},
     "output_type": "execute_result"
    }
   ],
   "source": [
    "n3"
   ]
  },
  {
   "cell_type": "code",
   "execution_count": 13,
   "metadata": {},
   "outputs": [],
   "source": [
    "n4 = np.random.randint(1,10,100)"
   ]
  },
  {
   "cell_type": "code",
   "execution_count": 14,
   "metadata": {},
   "outputs": [
    {
     "data": {
      "text/plain": [
       "array([1, 6, 9, 1, 9, 6, 2, 8, 9, 2, 3, 2, 3, 4, 9, 6, 1, 6, 9, 7, 7, 3,\n",
       "       2, 5, 5, 3, 3, 9, 5, 5, 9, 6, 1, 1, 7, 8, 7, 7, 5, 2, 4, 2, 9, 2,\n",
       "       4, 1, 6, 9, 1, 5, 5, 4, 2, 5, 8, 6, 7, 6, 6, 1, 6, 4, 1, 5, 7, 2,\n",
       "       7, 4, 5, 6, 3, 1, 6, 3, 7, 7, 1, 7, 3, 4, 4, 6, 7, 4, 1, 2, 9, 9,\n",
       "       1, 1, 1, 6, 4, 8, 1, 9, 7, 9, 2, 4])"
      ]
     },
     "execution_count": 14,
     "metadata": {},
     "output_type": "execute_result"
    }
   ],
   "source": [
    "n4"
   ]
  },
  {
   "cell_type": "code",
   "execution_count": 15,
   "metadata": {},
   "outputs": [
    {
     "data": {
      "text/plain": [
       "array([[1, 6, 9, 1, 9, 6, 2, 8, 9, 2],\n",
       "       [3, 2, 3, 4, 9, 6, 1, 6, 9, 7],\n",
       "       [7, 3, 2, 5, 5, 3, 3, 9, 5, 5],\n",
       "       [9, 6, 1, 1, 7, 8, 7, 7, 5, 2],\n",
       "       [4, 2, 9, 2, 4, 1, 6, 9, 1, 5],\n",
       "       [5, 4, 2, 5, 8, 6, 7, 6, 6, 1],\n",
       "       [6, 4, 1, 5, 7, 2, 7, 4, 5, 6],\n",
       "       [3, 1, 6, 3, 7, 7, 1, 7, 3, 4],\n",
       "       [4, 6, 7, 4, 1, 2, 9, 9, 1, 1],\n",
       "       [1, 6, 4, 8, 1, 9, 7, 9, 2, 4]])"
      ]
     },
     "execution_count": 15,
     "metadata": {},
     "output_type": "execute_result"
    }
   ],
   "source": [
    "n4.reshape((10,10))"
   ]
  },
  {
   "cell_type": "code",
   "execution_count": 16,
   "metadata": {},
   "outputs": [
    {
     "data": {
      "text/plain": [
       "array([[1, 6, 9, 1],\n",
       "       [9, 6, 2, 8],\n",
       "       [9, 2, 3, 2],\n",
       "       [3, 4, 9, 6],\n",
       "       [1, 6, 9, 7],\n",
       "       [7, 3, 2, 5],\n",
       "       [5, 3, 3, 9],\n",
       "       [5, 5, 9, 6],\n",
       "       [1, 1, 7, 8],\n",
       "       [7, 7, 5, 2],\n",
       "       [4, 2, 9, 2],\n",
       "       [4, 1, 6, 9],\n",
       "       [1, 5, 5, 4],\n",
       "       [2, 5, 8, 6],\n",
       "       [7, 6, 6, 1],\n",
       "       [6, 4, 1, 5],\n",
       "       [7, 2, 7, 4],\n",
       "       [5, 6, 3, 1],\n",
       "       [6, 3, 7, 7],\n",
       "       [1, 7, 3, 4],\n",
       "       [4, 6, 7, 4],\n",
       "       [1, 2, 9, 9],\n",
       "       [1, 1, 1, 6],\n",
       "       [4, 8, 1, 9],\n",
       "       [7, 9, 2, 4]])"
      ]
     },
     "execution_count": 16,
     "metadata": {},
     "output_type": "execute_result"
    }
   ],
   "source": [
    "n5 = n4.reshape((25,4))\n",
    "n5"
   ]
  },
  {
   "cell_type": "code",
   "execution_count": 17,
   "metadata": {},
   "outputs": [
    {
     "data": {
      "text/plain": [
       "(array([[7, 4, 5, 3, 3],\n",
       "        [1, 5, 3, 6, 1],\n",
       "        [1, 7, 4, 1, 9],\n",
       "        [7, 3, 8, 9, 1],\n",
       "        [4, 5, 1, 1, 9]]),\n",
       " array([[4, 1, 2, 2, 1],\n",
       "        [2, 7, 5, 7, 6],\n",
       "        [3, 2, 3, 3, 7],\n",
       "        [7, 1, 1, 5, 4],\n",
       "        [7, 3, 6, 6, 6]]))"
      ]
     },
     "execution_count": 17,
     "metadata": {},
     "output_type": "execute_result"
    }
   ],
   "source": [
    "n1 = np.random.randint(1,10,(5,5))\n",
    "n2 = np.random.randint(1,10,(5,5))\n",
    "n1,n2"
   ]
  },
  {
   "cell_type": "code",
   "execution_count": 18,
   "metadata": {},
   "outputs": [
    {
     "data": {
      "text/plain": [
       "array([[11,  5,  7,  5,  4],\n",
       "       [ 3, 12,  8, 13,  7],\n",
       "       [ 4,  9,  7,  4, 16],\n",
       "       [14,  4,  9, 14,  5],\n",
       "       [11,  8,  7,  7, 15]])"
      ]
     },
     "execution_count": 18,
     "metadata": {},
     "output_type": "execute_result"
    }
   ],
   "source": [
    "n1 + n2"
   ]
  },
  {
   "cell_type": "code",
   "execution_count": 19,
   "metadata": {},
   "outputs": [
    {
     "data": {
      "text/plain": [
       "array([[ 3,  3,  3,  1,  2],\n",
       "       [-1, -2, -2, -1, -5],\n",
       "       [-2,  5,  1, -2,  2],\n",
       "       [ 0,  2,  7,  4, -3],\n",
       "       [-3,  2, -5, -5,  3]])"
      ]
     },
     "execution_count": 19,
     "metadata": {},
     "output_type": "execute_result"
    }
   ],
   "source": [
    "n1 - n2"
   ]
  },
  {
   "cell_type": "code",
   "execution_count": 20,
   "metadata": {},
   "outputs": [
    {
     "data": {
      "text/plain": [
       "array([[1.75      , 4.        , 2.5       , 1.5       , 3.        ],\n",
       "       [0.5       , 0.71428571, 0.6       , 0.85714286, 0.16666667],\n",
       "       [0.33333333, 3.5       , 1.33333333, 0.33333333, 1.28571429],\n",
       "       [1.        , 3.        , 8.        , 1.8       , 0.25      ],\n",
       "       [0.57142857, 1.66666667, 0.16666667, 0.16666667, 1.5       ]])"
      ]
     },
     "execution_count": 20,
     "metadata": {},
     "output_type": "execute_result"
    }
   ],
   "source": [
    "n1 / n2"
   ]
  },
  {
   "cell_type": "code",
   "execution_count": 21,
   "metadata": {},
   "outputs": [
    {
     "data": {
      "text/plain": [
       "array([[   256,      1,      4,      4,      1],\n",
       "       [     4, 823543,   3125, 823543,  46656],\n",
       "       [    27,      4,     27,     27, 823543],\n",
       "       [823543,      1,      1,   3125,    256],\n",
       "       [823543,     27,  46656,  46656,  46656]])"
      ]
     },
     "execution_count": 21,
     "metadata": {},
     "output_type": "execute_result"
    }
   ],
   "source": [
    "n2 ** n2"
   ]
  },
  {
   "cell_type": "code",
   "execution_count": 22,
   "metadata": {},
   "outputs": [
    {
     "data": {
      "text/plain": [
       "array([[2401,  256,  625,   81,   81],\n",
       "       [   1,  625,   81, 1296,    1],\n",
       "       [   1, 2401,  256,    1, 6561],\n",
       "       [2401,   81, 4096, 6561,    1],\n",
       "       [ 256,  625,    1,    1, 6561]], dtype=int32)"
      ]
     },
     "execution_count": 22,
     "metadata": {},
     "output_type": "execute_result"
    }
   ],
   "source": [
    "n1 ** 4"
   ]
  },
  {
   "cell_type": "code",
   "execution_count": 23,
   "metadata": {},
   "outputs": [
    {
     "data": {
      "text/plain": [
       "array([[17, 14, 15, 13, 13],\n",
       "       [11, 15, 13, 16, 11],\n",
       "       [11, 17, 14, 11, 19],\n",
       "       [17, 13, 18, 19, 11],\n",
       "       [14, 15, 11, 11, 19]])"
      ]
     },
     "execution_count": 23,
     "metadata": {},
     "output_type": "execute_result"
    }
   ],
   "source": [
    "n1 + 10"
   ]
  },
  {
   "cell_type": "code",
   "execution_count": 24,
   "metadata": {},
   "outputs": [
    {
     "data": {
      "text/plain": [
       "array([[ 93,  57,  70,  90,  96],\n",
       "       [ 72,  51,  48,  82,  82],\n",
       "       [100,  86, 104, 122, 129],\n",
       "       [128,  56,  68, 110, 123],\n",
       "       [ 99,  69,  91, 105,  99]])"
      ]
     },
     "execution_count": 24,
     "metadata": {},
     "output_type": "execute_result"
    }
   ],
   "source": [
    "n1.dot(n2)"
   ]
  },
  {
   "cell_type": "code",
   "execution_count": 25,
   "metadata": {},
   "outputs": [
    {
     "data": {
      "text/plain": [
       "array([9, 4, 5, 9, 1, 9, 4, 3, 9, 6])"
      ]
     },
     "execution_count": 25,
     "metadata": {},
     "output_type": "execute_result"
    }
   ],
   "source": [
    "n6 = np.random.randint(1,10,10)\n",
    "n6"
   ]
  },
  {
   "cell_type": "code",
   "execution_count": 26,
   "metadata": {},
   "outputs": [
    {
     "data": {
      "text/plain": [
       "array([[28,  4, 10,  6,  3],\n",
       "       [ 2, 35, 15, 42,  6],\n",
       "       [ 3, 14, 12,  3, 63],\n",
       "       [49,  3,  8, 45,  4],\n",
       "       [28, 15,  6,  6, 54]])"
      ]
     },
     "execution_count": 26,
     "metadata": {},
     "output_type": "execute_result"
    }
   ],
   "source": [
    "n1 * n2"
   ]
  },
  {
   "cell_type": "code",
   "execution_count": 27,
   "metadata": {},
   "outputs": [
    {
     "data": {
      "text/plain": [
       "9"
      ]
     },
     "execution_count": 27,
     "metadata": {},
     "output_type": "execute_result"
    }
   ],
   "source": [
    "n6[0]"
   ]
  },
  {
   "cell_type": "code",
   "execution_count": 28,
   "metadata": {},
   "outputs": [
    {
     "data": {
      "text/plain": [
       "4"
      ]
     },
     "execution_count": 28,
     "metadata": {},
     "output_type": "execute_result"
    }
   ],
   "source": [
    "n6[1]"
   ]
  },
  {
   "cell_type": "code",
   "execution_count": 29,
   "metadata": {},
   "outputs": [
    {
     "data": {
      "text/plain": [
       "6"
      ]
     },
     "execution_count": 29,
     "metadata": {},
     "output_type": "execute_result"
    }
   ],
   "source": [
    "n6[-1]"
   ]
  },
  {
   "cell_type": "code",
   "execution_count": 30,
   "metadata": {},
   "outputs": [
    {
     "data": {
      "text/plain": [
       "array([9, 4, 5, 9, 1])"
      ]
     },
     "execution_count": 30,
     "metadata": {},
     "output_type": "execute_result"
    }
   ],
   "source": [
    "n6[:5]"
   ]
  },
  {
   "cell_type": "code",
   "execution_count": 31,
   "metadata": {},
   "outputs": [
    {
     "data": {
      "text/plain": [
       "array([9, 4, 3, 9, 6])"
      ]
     },
     "execution_count": 31,
     "metadata": {},
     "output_type": "execute_result"
    }
   ],
   "source": [
    "n6[5:]"
   ]
  },
  {
   "cell_type": "markdown",
   "metadata": {},
   "source": [
    "- #1 dim * [start:stop:step]\n",
    "- #2 dim * [rowstart:rowstop:rowstep,colstart:colstop:colstep]"
   ]
  },
  {
   "cell_type": "code",
   "execution_count": 32,
   "metadata": {},
   "outputs": [],
   "source": [
    "n7 = np.random.randint(1,10,(3,3))"
   ]
  },
  {
   "cell_type": "code",
   "execution_count": 33,
   "metadata": {},
   "outputs": [
    {
     "data": {
      "text/plain": [
       "array([[6, 9, 3],\n",
       "       [8, 4, 3],\n",
       "       [9, 5, 5]])"
      ]
     },
     "execution_count": 33,
     "metadata": {},
     "output_type": "execute_result"
    }
   ],
   "source": [
    "n7"
   ]
  },
  {
   "cell_type": "code",
   "execution_count": 34,
   "metadata": {},
   "outputs": [
    {
     "data": {
      "text/plain": [
       "array([1, 6, 9, 1, 9, 6, 2, 8, 9, 2, 3, 2, 3, 4, 9, 6, 1, 6, 9, 7, 7, 3,\n",
       "       2, 5, 5, 3, 3, 9, 5, 5, 9, 6, 1, 1, 7, 8, 7, 7, 5, 2, 4, 2, 9, 2,\n",
       "       4, 1, 6, 9, 1, 5, 5, 4, 2, 5, 8, 6, 7, 6, 6, 1, 6, 4, 1, 5, 7, 2,\n",
       "       7, 4, 5, 6, 3, 1, 6, 3, 7, 7, 1, 7, 3, 4, 4, 6, 7, 4, 1, 2, 9, 9,\n",
       "       1, 1, 1, 6, 4, 8, 1, 9, 7, 9, 2, 4])"
      ]
     },
     "execution_count": 34,
     "metadata": {},
     "output_type": "execute_result"
    }
   ],
   "source": [
    "# flatten a n dimen matrix to 1 dimen matrix\n",
    "n5.flatten()"
   ]
  },
  {
   "cell_type": "code",
   "execution_count": 35,
   "metadata": {},
   "outputs": [
    {
     "data": {
      "text/plain": [
       "array([1, 6, 9, 1, 9, 6, 2, 8, 9, 2, 3, 2, 3, 4, 9, 6, 1, 6, 9, 7, 7, 3,\n",
       "       2, 5, 5, 3, 3, 9, 5, 5, 9, 6, 1, 1, 7, 8, 7, 7, 5, 2, 4, 2, 9, 2,\n",
       "       4, 1, 6, 9, 1, 5, 5, 4, 2, 5, 8, 6, 7, 6, 6, 1, 6, 4, 1, 5, 7, 2,\n",
       "       7, 4, 5, 6, 3, 1, 6, 3, 7, 7, 1, 7, 3, 4, 4, 6, 7, 4, 1, 2, 9, 9,\n",
       "       1, 1, 1, 6, 4, 8, 1, 9, 7, 9, 2, 4])"
      ]
     },
     "execution_count": 35,
     "metadata": {},
     "output_type": "execute_result"
    }
   ],
   "source": [
    "# flatten a n dimen matrix to 1 dimen matrix\n",
    "n5.ravel()"
   ]
  },
  {
   "cell_type": "code",
   "execution_count": 36,
   "metadata": {},
   "outputs": [
    {
     "data": {
      "text/plain": [
       "array([[7, 1, 8, 8, 6],\n",
       "       [4, 1, 8, 7, 4],\n",
       "       [2, 5, 3, 1, 5],\n",
       "       [2, 1, 5, 6, 6],\n",
       "       [7, 5, 5, 3, 4]])"
      ]
     },
     "execution_count": 36,
     "metadata": {},
     "output_type": "execute_result"
    }
   ],
   "source": [
    "x = np.random.randint(1,10,(5,5))\n",
    "x"
   ]
  },
  {
   "cell_type": "code",
   "execution_count": 37,
   "metadata": {},
   "outputs": [
    {
     "data": {
      "text/plain": [
       "array([[7, 4, 2, 2, 7],\n",
       "       [1, 1, 5, 1, 5],\n",
       "       [8, 8, 3, 5, 5],\n",
       "       [8, 7, 1, 6, 3],\n",
       "       [6, 4, 5, 6, 4]])"
      ]
     },
     "execution_count": 37,
     "metadata": {},
     "output_type": "execute_result"
    }
   ],
   "source": [
    "x.transpose() # transpose the matrix , row to column and column to row"
   ]
  },
  {
   "cell_type": "code",
   "execution_count": 38,
   "metadata": {},
   "outputs": [
    {
     "data": {
      "text/plain": [
       "array([[7, 4, 2, 2, 7],\n",
       "       [1, 1, 5, 1, 5],\n",
       "       [8, 8, 3, 5, 5],\n",
       "       [8, 7, 1, 6, 3],\n",
       "       [6, 4, 5, 6, 4]])"
      ]
     },
     "execution_count": 38,
     "metadata": {},
     "output_type": "execute_result"
    }
   ],
   "source": [
    "x.T # transpose the matrix , row to column and column to row"
   ]
  },
  {
   "cell_type": "code",
   "execution_count": 39,
   "metadata": {},
   "outputs": [
    {
     "data": {
      "text/plain": [
       "array([9, 4, 5, 9, 1, 9, 4, 3, 9, 6])"
      ]
     },
     "execution_count": 39,
     "metadata": {},
     "output_type": "execute_result"
    }
   ],
   "source": [
    "n6"
   ]
  },
  {
   "cell_type": "code",
   "execution_count": 40,
   "metadata": {},
   "outputs": [
    {
     "data": {
      "text/plain": [
       "9"
      ]
     },
     "execution_count": 40,
     "metadata": {},
     "output_type": "execute_result"
    }
   ],
   "source": [
    "n6.max()"
   ]
  },
  {
   "cell_type": "code",
   "execution_count": 41,
   "metadata": {},
   "outputs": [
    {
     "data": {
      "text/plain": [
       "5.9"
      ]
     },
     "execution_count": 41,
     "metadata": {},
     "output_type": "execute_result"
    }
   ],
   "source": [
    "n6.mean()"
   ]
  },
  {
   "cell_type": "code",
   "execution_count": 42,
   "metadata": {},
   "outputs": [
    {
     "data": {
      "text/plain": [
       "59"
      ]
     },
     "execution_count": 42,
     "metadata": {},
     "output_type": "execute_result"
    }
   ],
   "source": [
    "n6.sum()"
   ]
  },
  {
   "cell_type": "code",
   "execution_count": 43,
   "metadata": {},
   "outputs": [
    {
     "data": {
      "text/plain": [
       "480"
      ]
     },
     "execution_count": 43,
     "metadata": {},
     "output_type": "execute_result"
    }
   ],
   "source": [
    "n5.sum()   # sum all values"
   ]
  },
  {
   "cell_type": "code",
   "execution_count": 44,
   "metadata": {},
   "outputs": [
    {
     "data": {
      "text/plain": [
       "array([108, 110, 133, 129])"
      ]
     },
     "execution_count": 44,
     "metadata": {},
     "output_type": "execute_result"
    }
   ],
   "source": [
    "n5.sum(axis=0) # sum all values in each column"
   ]
  },
  {
   "cell_type": "code",
   "execution_count": 45,
   "metadata": {},
   "outputs": [
    {
     "data": {
      "text/plain": [
       "array([17, 25, 16, 22, 23, 17, 20, 25, 17, 21, 17, 20, 15, 21, 20, 16, 20,\n",
       "       15, 23, 15, 21, 21,  9, 22, 22])"
      ]
     },
     "execution_count": 45,
     "metadata": {},
     "output_type": "execute_result"
    }
   ],
   "source": [
    "n5.sum(axis=1) # sum all values in each row"
   ]
  },
  {
   "cell_type": "code",
   "execution_count": 46,
   "metadata": {},
   "outputs": [
    {
     "name": "stdout",
     "output_type": "stream",
     "text": [
      "[9 4 5 9 1 9 4 3 9 6] 9 found at index 0\n",
      "[9 4 5 9 1 9 4 3 9 6] 1 found at index 4\n"
     ]
    }
   ],
   "source": [
    "print(n6, n6.max(),\"found at index\", n6.argmax())\n",
    "print(n6, n6.min(),\"found at index\", n6.argmin())"
   ]
  },
  {
   "cell_type": "code",
   "execution_count": 47,
   "metadata": {},
   "outputs": [
    {
     "data": {
      "text/plain": [
       "0"
      ]
     },
     "execution_count": 47,
     "metadata": {},
     "output_type": "execute_result"
    }
   ],
   "source": [
    "n6.argmax() # the index of the max value"
   ]
  },
  {
   "cell_type": "code",
   "execution_count": 48,
   "metadata": {},
   "outputs": [
    {
     "name": "stdout",
     "output_type": "stream",
     "text": [
      "[[84 26]\n",
      " [15 29]\n",
      " [48 65]]\n",
      "[[ 4 49]\n",
      " [74 94]\n",
      " [73 61]]\n",
      "[[23 17 53]\n",
      " [31 83 57]]\n"
     ]
    }
   ],
   "source": [
    "a = np.random.randint(1,100, (3,2))\n",
    "b = np.random.randint(1,100, (3,2))\n",
    "c = np.random.randint(1,100, (2,3))\n",
    "\n",
    "print(a)\n",
    "print(b)\n",
    "print(c)"
   ]
  },
  {
   "cell_type": "code",
   "execution_count": 49,
   "metadata": {},
   "outputs": [
    {
     "data": {
      "text/plain": [
       "array([[84, 26,  4, 49],\n",
       "       [15, 29, 74, 94],\n",
       "       [48, 65, 73, 61]])"
      ]
     },
     "execution_count": 49,
     "metadata": {},
     "output_type": "execute_result"
    }
   ],
   "source": [
    "np.hstack((a,b)) # horizontal stack"
   ]
  },
  {
   "cell_type": "code",
   "execution_count": 50,
   "metadata": {},
   "outputs": [
    {
     "data": {
      "text/plain": [
       "array([[84, 26],\n",
       "       [15, 29],\n",
       "       [48, 65],\n",
       "       [23, 31],\n",
       "       [17, 83],\n",
       "       [53, 57]])"
      ]
     },
     "execution_count": 50,
     "metadata": {},
     "output_type": "execute_result"
    }
   ],
   "source": [
    "np.vstack((a, c.T))"
   ]
  },
  {
   "cell_type": "code",
   "execution_count": 51,
   "metadata": {},
   "outputs": [],
   "source": [
    "m = np.array([1,2,3,4,2,2,3,5,6,1,2,2,3,5,6,1,2,3,5,6,2,4,5,6,3,1,2,3,5,7,6,8,9])"
   ]
  },
  {
   "cell_type": "code",
   "execution_count": 52,
   "metadata": {},
   "outputs": [
    {
     "data": {
      "text/plain": [
       "array([False, False, False, False, False, False, False, False,  True,\n",
       "       False, False, False, False, False,  True, False, False, False,\n",
       "       False,  True, False, False, False,  True, False, False, False,\n",
       "       False, False,  True,  True,  True,  True])"
      ]
     },
     "execution_count": 52,
     "metadata": {},
     "output_type": "execute_result"
    }
   ],
   "source": [
    "# boolean filter\n",
    "m > 5"
   ]
  },
  {
   "cell_type": "code",
   "execution_count": 53,
   "metadata": {},
   "outputs": [
    {
     "data": {
      "text/plain": [
       "array([6, 6, 6, 6, 7, 6, 8, 9])"
      ]
     },
     "execution_count": 53,
     "metadata": {},
     "output_type": "execute_result"
    }
   ],
   "source": [
    "m[m > 5]"
   ]
  },
  {
   "cell_type": "code",
   "execution_count": 54,
   "metadata": {},
   "outputs": [
    {
     "data": {
      "text/plain": [
       "array([1, 3, 4, 3, 5, 6, 1, 3, 5, 6, 1, 3, 5, 6, 4, 5, 6, 3, 1, 3, 5, 7,\n",
       "       6, 8, 9])"
      ]
     },
     "execution_count": 54,
     "metadata": {},
     "output_type": "execute_result"
    }
   ],
   "source": [
    "m[m != 2]"
   ]
  },
  {
   "cell_type": "code",
   "execution_count": 55,
   "metadata": {},
   "outputs": [
    {
     "data": {
      "text/plain": [
       "array([3, 4, 3, 5, 6, 3, 5, 6, 3, 5, 6, 4, 5, 6, 3, 3, 5, 7, 6])"
      ]
     },
     "execution_count": 55,
     "metadata": {},
     "output_type": "execute_result"
    }
   ],
   "source": [
    "# in range of 2 to 8\n",
    "m[(m > 2) & (m < 8)]"
   ]
  },
  {
   "cell_type": "code",
   "execution_count": 56,
   "metadata": {},
   "outputs": [
    {
     "ename": "KeyboardInterrupt",
     "evalue": "Interrupted by user",
     "output_type": "error",
     "traceback": [
      "\u001b[1;31m---------------------------------------------------------------------------\u001b[0m",
      "\u001b[1;31mKeyboardInterrupt\u001b[0m                         Traceback (most recent call last)",
      "\u001b[1;32mc:\\Users\\Dell\\OneDrive\\Documents\\python\\data_science\\data_analysis.ipynb Cell 58\u001b[0m in \u001b[0;36m<cell line: 3>\u001b[1;34m()\u001b[0m\n\u001b[0;32m      <a href='vscode-notebook-cell:/c%3A/Users/Dell/OneDrive/Documents/python/data_science/data_analysis.ipynb#Y111sZmlsZQ%3D%3D?line=1'>2</a>\u001b[0m mat \u001b[39m=\u001b[39m []\n\u001b[0;32m      <a href='vscode-notebook-cell:/c%3A/Users/Dell/OneDrive/Documents/python/data_science/data_analysis.ipynb#Y111sZmlsZQ%3D%3D?line=2'>3</a>\u001b[0m \u001b[39mfor\u001b[39;00m i \u001b[39min\u001b[39;00m \u001b[39mrange\u001b[39m(\u001b[39m10\u001b[39m):\n\u001b[1;32m----> <a href='vscode-notebook-cell:/c%3A/Users/Dell/OneDrive/Documents/python/data_science/data_analysis.ipynb#Y111sZmlsZQ%3D%3D?line=3'>4</a>\u001b[0m     mat\u001b[39m.\u001b[39mappend(\u001b[39mint\u001b[39m(\u001b[39minput\u001b[39;49m(\u001b[39m'\u001b[39;49m\u001b[39mEnter value\u001b[39;49m\u001b[39m'\u001b[39;49m)))\n\u001b[0;32m      <a href='vscode-notebook-cell:/c%3A/Users/Dell/OneDrive/Documents/python/data_science/data_analysis.ipynb#Y111sZmlsZQ%3D%3D?line=4'>5</a>\u001b[0m mat \u001b[39m=\u001b[39m np\u001b[39m.\u001b[39marray(mat)\n",
      "File \u001b[1;32mc:\\Users\\Dell\\miniconda3\\lib\\site-packages\\ipykernel\\kernelbase.py:1177\u001b[0m, in \u001b[0;36mKernel.raw_input\u001b[1;34m(self, prompt)\u001b[0m\n\u001b[0;32m   1173\u001b[0m \u001b[39mif\u001b[39;00m \u001b[39mnot\u001b[39;00m \u001b[39mself\u001b[39m\u001b[39m.\u001b[39m_allow_stdin:\n\u001b[0;32m   1174\u001b[0m     \u001b[39mraise\u001b[39;00m StdinNotImplementedError(\n\u001b[0;32m   1175\u001b[0m         \u001b[39m\"\u001b[39m\u001b[39mraw_input was called, but this frontend does not support input requests.\u001b[39m\u001b[39m\"\u001b[39m\n\u001b[0;32m   1176\u001b[0m     )\n\u001b[1;32m-> 1177\u001b[0m \u001b[39mreturn\u001b[39;00m \u001b[39mself\u001b[39;49m\u001b[39m.\u001b[39;49m_input_request(\n\u001b[0;32m   1178\u001b[0m     \u001b[39mstr\u001b[39;49m(prompt),\n\u001b[0;32m   1179\u001b[0m     \u001b[39mself\u001b[39;49m\u001b[39m.\u001b[39;49m_parent_ident[\u001b[39m\"\u001b[39;49m\u001b[39mshell\u001b[39;49m\u001b[39m\"\u001b[39;49m],\n\u001b[0;32m   1180\u001b[0m     \u001b[39mself\u001b[39;49m\u001b[39m.\u001b[39;49mget_parent(\u001b[39m\"\u001b[39;49m\u001b[39mshell\u001b[39;49m\u001b[39m\"\u001b[39;49m),\n\u001b[0;32m   1181\u001b[0m     password\u001b[39m=\u001b[39;49m\u001b[39mFalse\u001b[39;49;00m,\n\u001b[0;32m   1182\u001b[0m )\n",
      "File \u001b[1;32mc:\\Users\\Dell\\miniconda3\\lib\\site-packages\\ipykernel\\kernelbase.py:1219\u001b[0m, in \u001b[0;36mKernel._input_request\u001b[1;34m(self, prompt, ident, parent, password)\u001b[0m\n\u001b[0;32m   1216\u001b[0m             \u001b[39mbreak\u001b[39;00m\n\u001b[0;32m   1217\u001b[0m \u001b[39mexcept\u001b[39;00m \u001b[39mKeyboardInterrupt\u001b[39;00m:\n\u001b[0;32m   1218\u001b[0m     \u001b[39m# re-raise KeyboardInterrupt, to truncate traceback\u001b[39;00m\n\u001b[1;32m-> 1219\u001b[0m     \u001b[39mraise\u001b[39;00m \u001b[39mKeyboardInterrupt\u001b[39;00m(\u001b[39m\"\u001b[39m\u001b[39mInterrupted by user\u001b[39m\u001b[39m\"\u001b[39m) \u001b[39mfrom\u001b[39;00m \u001b[39mNone\u001b[39m\n\u001b[0;32m   1220\u001b[0m \u001b[39mexcept\u001b[39;00m \u001b[39mException\u001b[39;00m:\n\u001b[0;32m   1221\u001b[0m     \u001b[39mself\u001b[39m\u001b[39m.\u001b[39mlog\u001b[39m.\u001b[39mwarning(\u001b[39m\"\u001b[39m\u001b[39mInvalid Message:\u001b[39m\u001b[39m\"\u001b[39m, exc_info\u001b[39m=\u001b[39m\u001b[39mTrue\u001b[39;00m)\n",
      "\u001b[1;31mKeyboardInterrupt\u001b[0m: Interrupted by user"
     ]
    }
   ],
   "source": [
    "# user created numpy matrix\n",
    "mat = []\n",
    "for i in range(10):\n",
    "    mat.append(int(input('Enter value')))\n",
    "mat = np.array(mat)"
   ]
  },
  {
   "cell_type": "code",
   "execution_count": null,
   "metadata": {},
   "outputs": [
    {
     "name": "stdout",
     "output_type": "stream",
     "text": [
      "[2 1 3 2 4 5 5 3 2 1] (10,)\n"
     ]
    }
   ],
   "source": [
    "print(mat, mat.shape)"
   ]
  },
  {
   "cell_type": "code",
   "execution_count": null,
   "metadata": {},
   "outputs": [
    {
     "name": "stdout",
     "output_type": "stream",
     "text": [
      "[[3 2 5]\n",
      " [2 1 2]] (2, 3)\n"
     ]
    }
   ],
   "source": [
    "# user created numpy matrix\n",
    "mat= []\n",
    "for i in range(2):\n",
    "    smat = []\n",
    "    for j in range(3):\n",
    "        smat.append(int(input('Enter value')))\n",
    "    mat.append(smat)\n",
    "mat = np.array(mat)\n",
    "print(mat, mat.shape)"
   ]
  },
  {
   "cell_type": "code",
   "execution_count": null,
   "metadata": {},
   "outputs": [],
   "source": []
  }
 ],
 "metadata": {
  "kernelspec": {
   "display_name": "Python 3.9.12 ('base')",
   "language": "python",
   "name": "python3"
  },
  "language_info": {
   "codemirror_mode": {
    "name": "ipython",
    "version": 3
   },
   "file_extension": ".py",
   "mimetype": "text/x-python",
   "name": "python",
   "nbconvert_exporter": "python",
   "pygments_lexer": "ipython3",
   "version": "3.9.12"
  },
  "orig_nbformat": 4,
  "vscode": {
   "interpreter": {
    "hash": "193aa6218da7f76a59dc2bd6ea87d2b224c2417ad29cdf12ab4b4772313a8948"
   }
  }
 },
 "nbformat": 4,
 "nbformat_minor": 2
}
