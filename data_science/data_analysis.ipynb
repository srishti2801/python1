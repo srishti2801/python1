{
 "cells": [
  {
   "cell_type": "markdown",
   "metadata": {},
   "source": [
    "## numpy and pandas"
   ]
  },
  {
   "cell_type": "code",
   "execution_count": 3,
   "metadata": {},
   "outputs": [],
   "source": [
    "import numpy as np\n",
    "import pandas as pd"
   ]
  },
  {
   "cell_type": "code",
   "execution_count": 4,
   "metadata": {},
   "outputs": [],
   "source": [
    "x = [1,2,3,4,4,3,5,6,8,5]\n",
    "nx = np.array(x)"
   ]
  },
  {
   "cell_type": "code",
   "execution_count": 5,
   "metadata": {},
   "outputs": [
    {
     "name": "stdout",
     "output_type": "stream",
     "text": [
      "[1 2 3 4 4 3 5 6 8 5]\n"
     ]
    }
   ],
   "source": [
    "print(nx)"
   ]
  },
  {
   "cell_type": "code",
   "execution_count": 6,
   "metadata": {},
   "outputs": [
    {
     "data": {
      "text/plain": [
       "array([[1, 2, 3],\n",
       "       [4, 5, 6]])"
      ]
     },
     "execution_count": 6,
     "metadata": {},
     "output_type": "execute_result"
    }
   ],
   "source": [
    "ny = np.array([[1,2,3],[4,5,6]])\n",
    "ny"
   ]
  },
  {
   "cell_type": "code",
   "execution_count": 7,
   "metadata": {},
   "outputs": [
    {
     "name": "stdout",
     "output_type": "stream",
     "text": [
      "(2, 3)\n"
     ]
    }
   ],
   "source": [
    "print(ny.shape)"
   ]
  },
  {
   "cell_type": "code",
   "execution_count": 8,
   "metadata": {},
   "outputs": [],
   "source": [
    "one = np.arange(1,100,.2)"
   ]
  },
  {
   "cell_type": "code",
   "execution_count": 9,
   "metadata": {},
   "outputs": [
    {
     "name": "stdout",
     "output_type": "stream",
     "text": [
      "[ 1.   1.2  1.4  1.6  1.8  2.   2.2  2.4  2.6  2.8  3.   3.2  3.4  3.6\n",
      "  3.8  4.   4.2  4.4  4.6  4.8  5.   5.2  5.4  5.6  5.8  6.   6.2  6.4\n",
      "  6.6  6.8  7.   7.2  7.4  7.6  7.8  8.   8.2  8.4  8.6  8.8  9.   9.2\n",
      "  9.4  9.6  9.8 10.  10.2 10.4 10.6 10.8 11.  11.2 11.4 11.6 11.8 12.\n",
      " 12.2 12.4 12.6 12.8 13.  13.2 13.4 13.6 13.8 14.  14.2 14.4 14.6 14.8\n",
      " 15.  15.2 15.4 15.6 15.8 16.  16.2 16.4 16.6 16.8 17.  17.2 17.4 17.6\n",
      " 17.8 18.  18.2 18.4 18.6 18.8 19.  19.2 19.4 19.6 19.8 20.  20.2 20.4\n",
      " 20.6 20.8 21.  21.2 21.4 21.6 21.8 22.  22.2 22.4 22.6 22.8 23.  23.2\n",
      " 23.4 23.6 23.8 24.  24.2 24.4 24.6 24.8 25.  25.2 25.4 25.6 25.8 26.\n",
      " 26.2 26.4 26.6 26.8 27.  27.2 27.4 27.6 27.8 28.  28.2 28.4 28.6 28.8\n",
      " 29.  29.2 29.4 29.6 29.8 30.  30.2 30.4 30.6 30.8 31.  31.2 31.4 31.6\n",
      " 31.8 32.  32.2 32.4 32.6 32.8 33.  33.2 33.4 33.6 33.8 34.  34.2 34.4\n",
      " 34.6 34.8 35.  35.2 35.4 35.6 35.8 36.  36.2 36.4 36.6 36.8 37.  37.2\n",
      " 37.4 37.6 37.8 38.  38.2 38.4 38.6 38.8 39.  39.2 39.4 39.6 39.8 40.\n",
      " 40.2 40.4 40.6 40.8 41.  41.2 41.4 41.6 41.8 42.  42.2 42.4 42.6 42.8\n",
      " 43.  43.2 43.4 43.6 43.8 44.  44.2 44.4 44.6 44.8 45.  45.2 45.4 45.6\n",
      " 45.8 46.  46.2 46.4 46.6 46.8 47.  47.2 47.4 47.6 47.8 48.  48.2 48.4\n",
      " 48.6 48.8 49.  49.2 49.4 49.6 49.8 50.  50.2 50.4 50.6 50.8 51.  51.2\n",
      " 51.4 51.6 51.8 52.  52.2 52.4 52.6 52.8 53.  53.2 53.4 53.6 53.8 54.\n",
      " 54.2 54.4 54.6 54.8 55.  55.2 55.4 55.6 55.8 56.  56.2 56.4 56.6 56.8\n",
      " 57.  57.2 57.4 57.6 57.8 58.  58.2 58.4 58.6 58.8 59.  59.2 59.4 59.6\n",
      " 59.8 60.  60.2 60.4 60.6 60.8 61.  61.2 61.4 61.6 61.8 62.  62.2 62.4\n",
      " 62.6 62.8 63.  63.2 63.4 63.6 63.8 64.  64.2 64.4 64.6 64.8 65.  65.2\n",
      " 65.4 65.6 65.8 66.  66.2 66.4 66.6 66.8 67.  67.2 67.4 67.6 67.8 68.\n",
      " 68.2 68.4 68.6 68.8 69.  69.2 69.4 69.6 69.8 70.  70.2 70.4 70.6 70.8\n",
      " 71.  71.2 71.4 71.6 71.8 72.  72.2 72.4 72.6 72.8 73.  73.2 73.4 73.6\n",
      " 73.8 74.  74.2 74.4 74.6 74.8 75.  75.2 75.4 75.6 75.8 76.  76.2 76.4\n",
      " 76.6 76.8 77.  77.2 77.4 77.6 77.8 78.  78.2 78.4 78.6 78.8 79.  79.2\n",
      " 79.4 79.6 79.8 80.  80.2 80.4 80.6 80.8 81.  81.2 81.4 81.6 81.8 82.\n",
      " 82.2 82.4 82.6 82.8 83.  83.2 83.4 83.6 83.8 84.  84.2 84.4 84.6 84.8\n",
      " 85.  85.2 85.4 85.6 85.8 86.  86.2 86.4 86.6 86.8 87.  87.2 87.4 87.6\n",
      " 87.8 88.  88.2 88.4 88.6 88.8 89.  89.2 89.4 89.6 89.8 90.  90.2 90.4\n",
      " 90.6 90.8 91.  91.2 91.4 91.6 91.8 92.  92.2 92.4 92.6 92.8 93.  93.2\n",
      " 93.4 93.6 93.8 94.  94.2 94.4 94.6 94.8 95.  95.2 95.4 95.6 95.8 96.\n",
      " 96.2 96.4 96.6 96.8 97.  97.2 97.4 97.6 97.8 98.  98.2 98.4 98.6 98.8\n",
      " 99.  99.2 99.4 99.6 99.8]\n"
     ]
    }
   ],
   "source": [
    "print(one)"
   ]
  },
  {
   "cell_type": "code",
   "execution_count": 10,
   "metadata": {},
   "outputs": [
    {
     "name": "stdout",
     "output_type": "stream",
     "text": [
      "495\n"
     ]
    }
   ],
   "source": [
    "print(one.size)"
   ]
  },
  {
   "cell_type": "code",
   "execution_count": 11,
   "metadata": {},
   "outputs": [],
   "source": [
    "two = np.linspace(1,100,200)"
   ]
  },
  {
   "cell_type": "code",
   "execution_count": 12,
   "metadata": {},
   "outputs": [
    {
     "name": "stdout",
     "output_type": "stream",
     "text": [
      "[  1.           1.49748744   1.99497487   2.49246231   2.98994975\n",
      "   3.48743719   3.98492462   4.48241206   4.9798995    5.47738693\n",
      "   5.97487437   6.47236181   6.96984925   7.46733668   7.96482412\n",
      "   8.46231156   8.95979899   9.45728643   9.95477387  10.45226131\n",
      "  10.94974874  11.44723618  11.94472362  12.44221106  12.93969849\n",
      "  13.43718593  13.93467337  14.4321608   14.92964824  15.42713568\n",
      "  15.92462312  16.42211055  16.91959799  17.41708543  17.91457286\n",
      "  18.4120603   18.90954774  19.40703518  19.90452261  20.40201005\n",
      "  20.89949749  21.39698492  21.89447236  22.3919598   22.88944724\n",
      "  23.38693467  23.88442211  24.38190955  24.87939698  25.37688442\n",
      "  25.87437186  26.3718593   26.86934673  27.36683417  27.86432161\n",
      "  28.36180905  28.85929648  29.35678392  29.85427136  30.35175879\n",
      "  30.84924623  31.34673367  31.84422111  32.34170854  32.83919598\n",
      "  33.33668342  33.83417085  34.33165829  34.82914573  35.32663317\n",
      "  35.8241206   36.32160804  36.81909548  37.31658291  37.81407035\n",
      "  38.31155779  38.80904523  39.30653266  39.8040201   40.30150754\n",
      "  40.79899497  41.29648241  41.79396985  42.29145729  42.78894472\n",
      "  43.28643216  43.7839196   44.28140704  44.77889447  45.27638191\n",
      "  45.77386935  46.27135678  46.76884422  47.26633166  47.7638191\n",
      "  48.26130653  48.75879397  49.25628141  49.75376884  50.25125628\n",
      "  50.74874372  51.24623116  51.74371859  52.24120603  52.73869347\n",
      "  53.2361809   53.73366834  54.23115578  54.72864322  55.22613065\n",
      "  55.72361809  56.22110553  56.71859296  57.2160804   57.71356784\n",
      "  58.21105528  58.70854271  59.20603015  59.70351759  60.20100503\n",
      "  60.69849246  61.1959799   61.69346734  62.19095477  62.68844221\n",
      "  63.18592965  63.68341709  64.18090452  64.67839196  65.1758794\n",
      "  65.67336683  66.17085427  66.66834171  67.16582915  67.66331658\n",
      "  68.16080402  68.65829146  69.15577889  69.65326633  70.15075377\n",
      "  70.64824121  71.14572864  71.64321608  72.14070352  72.63819095\n",
      "  73.13567839  73.63316583  74.13065327  74.6281407   75.12562814\n",
      "  75.62311558  76.12060302  76.61809045  77.11557789  77.61306533\n",
      "  78.11055276  78.6080402   79.10552764  79.60301508  80.10050251\n",
      "  80.59798995  81.09547739  81.59296482  82.09045226  82.5879397\n",
      "  83.08542714  83.58291457  84.08040201  84.57788945  85.07537688\n",
      "  85.57286432  86.07035176  86.5678392   87.06532663  87.56281407\n",
      "  88.06030151  88.55778894  89.05527638  89.55276382  90.05025126\n",
      "  90.54773869  91.04522613  91.54271357  92.04020101  92.53768844\n",
      "  93.03517588  93.53266332  94.03015075  94.52763819  95.02512563\n",
      "  95.52261307  96.0201005   96.51758794  97.01507538  97.51256281\n",
      "  98.01005025  98.50753769  99.00502513  99.50251256 100.        ]\n"
     ]
    }
   ],
   "source": [
    "print(two)"
   ]
  },
  {
   "cell_type": "code",
   "execution_count": 13,
   "metadata": {},
   "outputs": [],
   "source": [
    "n3 = np.random.rand(100)"
   ]
  },
  {
   "cell_type": "code",
   "execution_count": 14,
   "metadata": {},
   "outputs": [
    {
     "data": {
      "text/plain": [
       "array([0.41628796, 0.24943837, 0.50188146, 0.05541743, 0.12239044,\n",
       "       0.25043481, 0.84180189, 0.75312967, 0.87645549, 0.21773924,\n",
       "       0.82897906, 0.54289759, 0.65231472, 0.57880792, 0.45783858,\n",
       "       0.92395834, 0.3801818 , 0.61572796, 0.0036197 , 0.85549833,\n",
       "       0.79482499, 0.38000064, 0.63606858, 0.38050328, 0.05371356,\n",
       "       0.67649939, 0.74476961, 0.66917709, 0.31040025, 0.59962441,\n",
       "       0.01251753, 0.66657277, 0.37770798, 0.86958801, 0.2636423 ,\n",
       "       0.89971565, 0.95446032, 0.09880458, 0.1063114 , 0.66730754,\n",
       "       0.13306939, 0.86668295, 0.6437027 , 0.44374946, 0.3069671 ,\n",
       "       0.0172382 , 0.64415186, 0.42270142, 0.16991817, 0.79014881,\n",
       "       0.08721316, 0.40846602, 0.84009891, 0.08742562, 0.82088427,\n",
       "       0.77922406, 0.96282846, 0.27488928, 0.14332639, 0.97571785,\n",
       "       0.27699732, 0.81084185, 0.98086367, 0.66674815, 0.59474631,\n",
       "       0.68336715, 0.29857524, 0.51614083, 0.42334425, 0.00405771,\n",
       "       0.62961155, 0.34263148, 0.14189564, 0.90043052, 0.92672177,\n",
       "       0.94339317, 0.2542211 , 0.94246001, 0.2305243 , 0.19103649,\n",
       "       0.33518943, 0.43826852, 0.15186808, 0.34687042, 0.59627794,\n",
       "       0.30086184, 0.54239333, 0.92329173, 0.55471742, 0.72400412,\n",
       "       0.10224674, 0.84123743, 0.16985717, 0.95640064, 0.83231554,\n",
       "       0.26190796, 0.79260863, 0.9318705 , 0.10626362, 0.06046395])"
      ]
     },
     "execution_count": 14,
     "metadata": {},
     "output_type": "execute_result"
    }
   ],
   "source": [
    "n3"
   ]
  },
  {
   "cell_type": "code",
   "execution_count": 15,
   "metadata": {},
   "outputs": [],
   "source": [
    "n4 = np.random.randint(1,10,100)"
   ]
  },
  {
   "cell_type": "code",
   "execution_count": 16,
   "metadata": {},
   "outputs": [
    {
     "data": {
      "text/plain": [
       "array([6, 2, 4, 4, 2, 8, 1, 7, 4, 1, 5, 8, 9, 9, 2, 4, 1, 6, 1, 9, 5, 2,\n",
       "       7, 8, 3, 9, 5, 6, 8, 5, 7, 6, 6, 6, 8, 9, 9, 7, 7, 3, 4, 2, 4, 7,\n",
       "       4, 2, 5, 8, 1, 5, 6, 5, 9, 8, 2, 9, 5, 1, 6, 1, 3, 3, 8, 8, 5, 9,\n",
       "       4, 5, 4, 1, 9, 4, 7, 2, 4, 6, 2, 1, 2, 1, 4, 3, 9, 4, 2, 1, 5, 1,\n",
       "       1, 1, 5, 2, 2, 8, 8, 7, 4, 8, 6, 1])"
      ]
     },
     "execution_count": 16,
     "metadata": {},
     "output_type": "execute_result"
    }
   ],
   "source": [
    "n4"
   ]
  },
  {
   "cell_type": "code",
   "execution_count": 17,
   "metadata": {},
   "outputs": [
    {
     "data": {
      "text/plain": [
       "array([[6, 2, 4, 4, 2, 8, 1, 7, 4, 1],\n",
       "       [5, 8, 9, 9, 2, 4, 1, 6, 1, 9],\n",
       "       [5, 2, 7, 8, 3, 9, 5, 6, 8, 5],\n",
       "       [7, 6, 6, 6, 8, 9, 9, 7, 7, 3],\n",
       "       [4, 2, 4, 7, 4, 2, 5, 8, 1, 5],\n",
       "       [6, 5, 9, 8, 2, 9, 5, 1, 6, 1],\n",
       "       [3, 3, 8, 8, 5, 9, 4, 5, 4, 1],\n",
       "       [9, 4, 7, 2, 4, 6, 2, 1, 2, 1],\n",
       "       [4, 3, 9, 4, 2, 1, 5, 1, 1, 1],\n",
       "       [5, 2, 2, 8, 8, 7, 4, 8, 6, 1]])"
      ]
     },
     "execution_count": 17,
     "metadata": {},
     "output_type": "execute_result"
    }
   ],
   "source": [
    "n4.reshape((10,10))"
   ]
  },
  {
   "cell_type": "code",
   "execution_count": 18,
   "metadata": {},
   "outputs": [
    {
     "data": {
      "text/plain": [
       "array([[6, 2, 4, 4],\n",
       "       [2, 8, 1, 7],\n",
       "       [4, 1, 5, 8],\n",
       "       [9, 9, 2, 4],\n",
       "       [1, 6, 1, 9],\n",
       "       [5, 2, 7, 8],\n",
       "       [3, 9, 5, 6],\n",
       "       [8, 5, 7, 6],\n",
       "       [6, 6, 8, 9],\n",
       "       [9, 7, 7, 3],\n",
       "       [4, 2, 4, 7],\n",
       "       [4, 2, 5, 8],\n",
       "       [1, 5, 6, 5],\n",
       "       [9, 8, 2, 9],\n",
       "       [5, 1, 6, 1],\n",
       "       [3, 3, 8, 8],\n",
       "       [5, 9, 4, 5],\n",
       "       [4, 1, 9, 4],\n",
       "       [7, 2, 4, 6],\n",
       "       [2, 1, 2, 1],\n",
       "       [4, 3, 9, 4],\n",
       "       [2, 1, 5, 1],\n",
       "       [1, 1, 5, 2],\n",
       "       [2, 8, 8, 7],\n",
       "       [4, 8, 6, 1]])"
      ]
     },
     "execution_count": 18,
     "metadata": {},
     "output_type": "execute_result"
    }
   ],
   "source": [
    "n5 = n4.reshape((25,4))\n",
    "n5"
   ]
  },
  {
   "cell_type": "code",
   "execution_count": 19,
   "metadata": {},
   "outputs": [
    {
     "data": {
      "text/plain": [
       "(array([[8, 1, 4, 3, 8],\n",
       "        [8, 1, 1, 2, 6],\n",
       "        [8, 3, 6, 6, 4],\n",
       "        [1, 6, 5, 2, 2],\n",
       "        [6, 4, 7, 3, 2]]),\n",
       " array([[6, 3, 9, 6, 1],\n",
       "        [9, 5, 3, 3, 9],\n",
       "        [4, 2, 9, 1, 2],\n",
       "        [1, 5, 8, 2, 1],\n",
       "        [3, 5, 7, 2, 1]]))"
      ]
     },
     "execution_count": 19,
     "metadata": {},
     "output_type": "execute_result"
    }
   ],
   "source": [
    "n1 = np.random.randint(1,10,(5,5))\n",
    "n2 = np.random.randint(1,10,(5,5))\n",
    "n1,n2"
   ]
  },
  {
   "cell_type": "code",
   "execution_count": 20,
   "metadata": {},
   "outputs": [
    {
     "data": {
      "text/plain": [
       "array([[14,  4, 13,  9,  9],\n",
       "       [17,  6,  4,  5, 15],\n",
       "       [12,  5, 15,  7,  6],\n",
       "       [ 2, 11, 13,  4,  3],\n",
       "       [ 9,  9, 14,  5,  3]])"
      ]
     },
     "execution_count": 20,
     "metadata": {},
     "output_type": "execute_result"
    }
   ],
   "source": [
    "n1 + n2"
   ]
  },
  {
   "cell_type": "code",
   "execution_count": 21,
   "metadata": {},
   "outputs": [
    {
     "data": {
      "text/plain": [
       "array([[ 2, -2, -5, -3,  7],\n",
       "       [-1, -4, -2, -1, -3],\n",
       "       [ 4,  1, -3,  5,  2],\n",
       "       [ 0,  1, -3,  0,  1],\n",
       "       [ 3, -1,  0,  1,  1]])"
      ]
     },
     "execution_count": 21,
     "metadata": {},
     "output_type": "execute_result"
    }
   ],
   "source": [
    "n1 - n2"
   ]
  },
  {
   "cell_type": "code",
   "execution_count": 22,
   "metadata": {},
   "outputs": [
    {
     "data": {
      "text/plain": [
       "array([[1.33333333, 0.33333333, 0.44444444, 0.5       , 8.        ],\n",
       "       [0.88888889, 0.2       , 0.33333333, 0.66666667, 0.66666667],\n",
       "       [2.        , 1.5       , 0.66666667, 6.        , 2.        ],\n",
       "       [1.        , 1.2       , 0.625     , 1.        , 2.        ],\n",
       "       [2.        , 0.8       , 1.        , 1.5       , 2.        ]])"
      ]
     },
     "execution_count": 22,
     "metadata": {},
     "output_type": "execute_result"
    }
   ],
   "source": [
    "n1 / n2"
   ]
  },
  {
   "cell_type": "code",
   "execution_count": 23,
   "metadata": {},
   "outputs": [
    {
     "data": {
      "text/plain": [
       "array([[    46656,        27, 387420489,     46656,         1],\n",
       "       [387420489,      3125,        27,        27, 387420489],\n",
       "       [      256,         4, 387420489,         1,         4],\n",
       "       [        1,      3125,  16777216,         4,         1],\n",
       "       [       27,      3125,    823543,         4,         1]])"
      ]
     },
     "execution_count": 23,
     "metadata": {},
     "output_type": "execute_result"
    }
   ],
   "source": [
    "n2 ** n2"
   ]
  },
  {
   "cell_type": "code",
   "execution_count": 24,
   "metadata": {},
   "outputs": [
    {
     "data": {
      "text/plain": [
       "array([[4096,    1,  256,   81, 4096],\n",
       "       [4096,    1,    1,   16, 1296],\n",
       "       [4096,   81, 1296, 1296,  256],\n",
       "       [   1, 1296,  625,   16,   16],\n",
       "       [1296,  256, 2401,   81,   16]], dtype=int32)"
      ]
     },
     "execution_count": 24,
     "metadata": {},
     "output_type": "execute_result"
    }
   ],
   "source": [
    "n1 ** 4"
   ]
  },
  {
   "cell_type": "code",
   "execution_count": 25,
   "metadata": {},
   "outputs": [
    {
     "data": {
      "text/plain": [
       "array([[18, 11, 14, 13, 18],\n",
       "       [18, 11, 11, 12, 16],\n",
       "       [18, 13, 16, 16, 14],\n",
       "       [11, 16, 15, 12, 12],\n",
       "       [16, 14, 17, 13, 12]])"
      ]
     },
     "execution_count": 25,
     "metadata": {},
     "output_type": "execute_result"
    }
   ],
   "source": [
    "n1 + 10"
   ]
  },
  {
   "cell_type": "code",
   "execution_count": 26,
   "metadata": {},
   "outputs": [
    {
     "data": {
      "text/plain": [
       "array([[100,  92, 191,  77,  36],\n",
       "       [ 81,  71, 142,  68,  27],\n",
       "       [117, 101, 211,  83,  57],\n",
       "       [ 88,  63, 102,  37,  69],\n",
       "       [109,  77, 167,  65,  61]])"
      ]
     },
     "execution_count": 26,
     "metadata": {},
     "output_type": "execute_result"
    }
   ],
   "source": [
    "n1.dot(n2)"
   ]
  },
  {
   "cell_type": "code",
   "execution_count": 27,
   "metadata": {},
   "outputs": [
    {
     "data": {
      "text/plain": [
       "array([4, 7, 9, 8, 5, 7, 3, 6, 4, 3])"
      ]
     },
     "execution_count": 27,
     "metadata": {},
     "output_type": "execute_result"
    }
   ],
   "source": [
    "n6 = np.random.randint(1,10,10)\n",
    "n6"
   ]
  },
  {
   "cell_type": "code",
   "execution_count": 28,
   "metadata": {},
   "outputs": [
    {
     "data": {
      "text/plain": [
       "array([[48,  3, 36, 18,  8],\n",
       "       [72,  5,  3,  6, 54],\n",
       "       [32,  6, 54,  6,  8],\n",
       "       [ 1, 30, 40,  4,  2],\n",
       "       [18, 20, 49,  6,  2]])"
      ]
     },
     "execution_count": 28,
     "metadata": {},
     "output_type": "execute_result"
    }
   ],
   "source": [
    "n1 * n2"
   ]
  },
  {
   "cell_type": "code",
   "execution_count": 29,
   "metadata": {},
   "outputs": [
    {
     "data": {
      "text/plain": [
       "4"
      ]
     },
     "execution_count": 29,
     "metadata": {},
     "output_type": "execute_result"
    }
   ],
   "source": [
    "n6[0]"
   ]
  },
  {
   "cell_type": "code",
   "execution_count": 30,
   "metadata": {},
   "outputs": [
    {
     "data": {
      "text/plain": [
       "7"
      ]
     },
     "execution_count": 30,
     "metadata": {},
     "output_type": "execute_result"
    }
   ],
   "source": [
    "n6[1]"
   ]
  },
  {
   "cell_type": "code",
   "execution_count": 31,
   "metadata": {},
   "outputs": [
    {
     "data": {
      "text/plain": [
       "3"
      ]
     },
     "execution_count": 31,
     "metadata": {},
     "output_type": "execute_result"
    }
   ],
   "source": [
    "n6[-1]"
   ]
  },
  {
   "cell_type": "code",
   "execution_count": 32,
   "metadata": {},
   "outputs": [
    {
     "data": {
      "text/plain": [
       "array([4, 7, 9, 8, 5])"
      ]
     },
     "execution_count": 32,
     "metadata": {},
     "output_type": "execute_result"
    }
   ],
   "source": [
    "n6[:5]"
   ]
  },
  {
   "cell_type": "code",
   "execution_count": 33,
   "metadata": {},
   "outputs": [
    {
     "data": {
      "text/plain": [
       "array([7, 3, 6, 4, 3])"
      ]
     },
     "execution_count": 33,
     "metadata": {},
     "output_type": "execute_result"
    }
   ],
   "source": [
    "n6[5:]"
   ]
  },
  {
   "cell_type": "markdown",
   "metadata": {},
   "source": [
    "- #1 dim * [start:stop:step]\n",
    "- #2 dim * [rowstart:rowstop:rowstep,colstart:colstop:colstep]"
   ]
  },
  {
   "cell_type": "code",
   "execution_count": 34,
   "metadata": {},
   "outputs": [],
   "source": [
    "n7 = np.random.randint(1,10,(3,3))"
   ]
  },
  {
   "cell_type": "code",
   "execution_count": 35,
   "metadata": {},
   "outputs": [
    {
     "data": {
      "text/plain": [
       "array([[9, 8, 3],\n",
       "       [7, 6, 4],\n",
       "       [1, 1, 7]])"
      ]
     },
     "execution_count": 35,
     "metadata": {},
     "output_type": "execute_result"
    }
   ],
   "source": [
    "n7"
   ]
  },
  {
   "cell_type": "code",
   "execution_count": 36,
   "metadata": {},
   "outputs": [
    {
     "data": {
      "text/plain": [
       "array([6, 2, 4, 4, 2, 8, 1, 7, 4, 1, 5, 8, 9, 9, 2, 4, 1, 6, 1, 9, 5, 2,\n",
       "       7, 8, 3, 9, 5, 6, 8, 5, 7, 6, 6, 6, 8, 9, 9, 7, 7, 3, 4, 2, 4, 7,\n",
       "       4, 2, 5, 8, 1, 5, 6, 5, 9, 8, 2, 9, 5, 1, 6, 1, 3, 3, 8, 8, 5, 9,\n",
       "       4, 5, 4, 1, 9, 4, 7, 2, 4, 6, 2, 1, 2, 1, 4, 3, 9, 4, 2, 1, 5, 1,\n",
       "       1, 1, 5, 2, 2, 8, 8, 7, 4, 8, 6, 1])"
      ]
     },
     "execution_count": 36,
     "metadata": {},
     "output_type": "execute_result"
    }
   ],
   "source": [
    "# flatten a n dimen matrix to 1 dimen matrix\n",
    "n5.flatten()"
   ]
  },
  {
   "cell_type": "code",
   "execution_count": 37,
   "metadata": {},
   "outputs": [
    {
     "data": {
      "text/plain": [
       "array([6, 2, 4, 4, 2, 8, 1, 7, 4, 1, 5, 8, 9, 9, 2, 4, 1, 6, 1, 9, 5, 2,\n",
       "       7, 8, 3, 9, 5, 6, 8, 5, 7, 6, 6, 6, 8, 9, 9, 7, 7, 3, 4, 2, 4, 7,\n",
       "       4, 2, 5, 8, 1, 5, 6, 5, 9, 8, 2, 9, 5, 1, 6, 1, 3, 3, 8, 8, 5, 9,\n",
       "       4, 5, 4, 1, 9, 4, 7, 2, 4, 6, 2, 1, 2, 1, 4, 3, 9, 4, 2, 1, 5, 1,\n",
       "       1, 1, 5, 2, 2, 8, 8, 7, 4, 8, 6, 1])"
      ]
     },
     "execution_count": 37,
     "metadata": {},
     "output_type": "execute_result"
    }
   ],
   "source": [
    "# flatten a n dimen matrix to 1 dimen matrix\n",
    "n5.ravel()"
   ]
  },
  {
   "cell_type": "code",
   "execution_count": 40,
   "metadata": {},
   "outputs": [
    {
     "data": {
      "text/plain": [
       "array([[5, 7, 1, 4, 3],\n",
       "       [1, 2, 8, 9, 3],\n",
       "       [9, 9, 9, 9, 5],\n",
       "       [8, 8, 2, 1, 2],\n",
       "       [5, 9, 2, 6, 9]])"
      ]
     },
     "execution_count": 40,
     "metadata": {},
     "output_type": "execute_result"
    }
   ],
   "source": [
    "x = np.random.randint(1,10,(5,5))\n",
    "x"
   ]
  },
  {
   "cell_type": "code",
   "execution_count": 41,
   "metadata": {},
   "outputs": [
    {
     "data": {
      "text/plain": [
       "array([[5, 1, 9, 8, 5],\n",
       "       [7, 2, 9, 8, 9],\n",
       "       [1, 8, 9, 2, 2],\n",
       "       [4, 9, 9, 1, 6],\n",
       "       [3, 3, 5, 2, 9]])"
      ]
     },
     "execution_count": 41,
     "metadata": {},
     "output_type": "execute_result"
    }
   ],
   "source": [
    "x.transpose() # transpose the matrix , row to column and column to row"
   ]
  },
  {
   "cell_type": "code",
   "execution_count": 42,
   "metadata": {},
   "outputs": [
    {
     "data": {
      "text/plain": [
       "array([[5, 1, 9, 8, 5],\n",
       "       [7, 2, 9, 8, 9],\n",
       "       [1, 8, 9, 2, 2],\n",
       "       [4, 9, 9, 1, 6],\n",
       "       [3, 3, 5, 2, 9]])"
      ]
     },
     "execution_count": 42,
     "metadata": {},
     "output_type": "execute_result"
    }
   ],
   "source": [
    "x.T # transpose the matrix , row to column and column to row"
   ]
  },
  {
   "cell_type": "code",
   "execution_count": 43,
   "metadata": {},
   "outputs": [
    {
     "data": {
      "text/plain": [
       "array([4, 7, 9, 8, 5, 7, 3, 6, 4, 3])"
      ]
     },
     "execution_count": 43,
     "metadata": {},
     "output_type": "execute_result"
    }
   ],
   "source": [
    "n6"
   ]
  },
  {
   "cell_type": "code",
   "execution_count": 44,
   "metadata": {},
   "outputs": [
    {
     "data": {
      "text/plain": [
       "9"
      ]
     },
     "execution_count": 44,
     "metadata": {},
     "output_type": "execute_result"
    }
   ],
   "source": [
    "n6.max()"
   ]
  },
  {
   "cell_type": "code",
   "execution_count": 45,
   "metadata": {},
   "outputs": [
    {
     "data": {
      "text/plain": [
       "5.6"
      ]
     },
     "execution_count": 45,
     "metadata": {},
     "output_type": "execute_result"
    }
   ],
   "source": [
    "n6.mean()"
   ]
  },
  {
   "cell_type": "code",
   "execution_count": 46,
   "metadata": {},
   "outputs": [
    {
     "data": {
      "text/plain": [
       "56"
      ]
     },
     "execution_count": 46,
     "metadata": {},
     "output_type": "execute_result"
    }
   ],
   "source": [
    "n6.sum()"
   ]
  },
  {
   "cell_type": "code",
   "execution_count": 47,
   "metadata": {},
   "outputs": [
    {
     "data": {
      "text/plain": [
       "483"
      ]
     },
     "execution_count": 47,
     "metadata": {},
     "output_type": "execute_result"
    }
   ],
   "source": [
    "n5.sum()   # sum all values"
   ]
  },
  {
   "cell_type": "code",
   "execution_count": 48,
   "metadata": {},
   "outputs": [
    {
     "data": {
      "text/plain": [
       "array([110, 110, 130, 133])"
      ]
     },
     "execution_count": 48,
     "metadata": {},
     "output_type": "execute_result"
    }
   ],
   "source": [
    "n5.sum(axis=0) # sum all values in each column"
   ]
  },
  {
   "cell_type": "code",
   "execution_count": 49,
   "metadata": {},
   "outputs": [
    {
     "data": {
      "text/plain": [
       "array([16, 18, 18, 24, 17, 22, 23, 26, 29, 26, 17, 19, 17, 28, 13, 22, 23,\n",
       "       18, 19,  6, 20,  9,  9, 25, 19])"
      ]
     },
     "execution_count": 49,
     "metadata": {},
     "output_type": "execute_result"
    }
   ],
   "source": [
    "n5.sum(axis=1) # sum all values in each row"
   ]
  },
  {
   "cell_type": "code",
   "execution_count": 50,
   "metadata": {},
   "outputs": [
    {
     "name": "stdout",
     "output_type": "stream",
     "text": [
      "[4 7 9 8 5 7 3 6 4 3] 9 found at index 2\n",
      "[4 7 9 8 5 7 3 6 4 3] 3 found at index 6\n"
     ]
    }
   ],
   "source": [
    "print(n6, n6.max(),\"found at index\", n6.argmax())\n",
    "print(n6, n6.min(),\"found at index\", n6.argmin())"
   ]
  },
  {
   "cell_type": "code",
   "execution_count": 51,
   "metadata": {},
   "outputs": [
    {
     "data": {
      "text/plain": [
       "2"
      ]
     },
     "execution_count": 51,
     "metadata": {},
     "output_type": "execute_result"
    }
   ],
   "source": [
    "n6.argmax() # the index of the max value"
   ]
  },
  {
   "cell_type": "code",
   "execution_count": 52,
   "metadata": {},
   "outputs": [
    {
     "name": "stdout",
     "output_type": "stream",
     "text": [
      "[[18 32]\n",
      " [97  1]\n",
      " [23 81]]\n",
      "[[84 95]\n",
      " [95 93]\n",
      " [64 23]]\n",
      "[[87  5 95]\n",
      " [83  6 68]]\n"
     ]
    }
   ],
   "source": [
    "a = np.random.randint(1,100, (3,2))\n",
    "b = np.random.randint(1,100, (3,2))\n",
    "c = np.random.randint(1,100, (2,3))\n",
    "\n",
    "print(a)\n",
    "print(b)\n",
    "print(c)"
   ]
  },
  {
   "cell_type": "code",
   "execution_count": 53,
   "metadata": {},
   "outputs": [
    {
     "data": {
      "text/plain": [
       "array([[18, 32, 84, 95],\n",
       "       [97,  1, 95, 93],\n",
       "       [23, 81, 64, 23]])"
      ]
     },
     "execution_count": 53,
     "metadata": {},
     "output_type": "execute_result"
    }
   ],
   "source": [
    "np.hstack((a,b)) # horizontal stack"
   ]
  },
  {
   "cell_type": "code",
   "execution_count": 54,
   "metadata": {},
   "outputs": [
    {
     "data": {
      "text/plain": [
       "array([[18, 32],\n",
       "       [97,  1],\n",
       "       [23, 81],\n",
       "       [87, 83],\n",
       "       [ 5,  6],\n",
       "       [95, 68]])"
      ]
     },
     "execution_count": 54,
     "metadata": {},
     "output_type": "execute_result"
    }
   ],
   "source": [
    "np.vstack((a, c.T))"
   ]
  },
  {
   "cell_type": "code",
   "execution_count": 55,
   "metadata": {},
   "outputs": [],
   "source": [
    "m = np.array([1,2,3,4,2,2,3,5,6,1,2,2,3,5,6,1,2,3,5,6,2,4,5,6,3,1,2,3,5,7,6,8,9])"
   ]
  },
  {
   "cell_type": "code",
   "execution_count": 56,
   "metadata": {},
   "outputs": [
    {
     "data": {
      "text/plain": [
       "array([False, False, False, False, False, False, False, False,  True,\n",
       "       False, False, False, False, False,  True, False, False, False,\n",
       "       False,  True, False, False, False,  True, False, False, False,\n",
       "       False, False,  True,  True,  True,  True])"
      ]
     },
     "execution_count": 56,
     "metadata": {},
     "output_type": "execute_result"
    }
   ],
   "source": [
    "# boolean filter\n",
    "m > 5"
   ]
  },
  {
   "cell_type": "code",
   "execution_count": 57,
   "metadata": {},
   "outputs": [
    {
     "data": {
      "text/plain": [
       "array([6, 6, 6, 6, 7, 6, 8, 9])"
      ]
     },
     "execution_count": 57,
     "metadata": {},
     "output_type": "execute_result"
    }
   ],
   "source": [
    "m[m > 5]"
   ]
  },
  {
   "cell_type": "code",
   "execution_count": 58,
   "metadata": {},
   "outputs": [
    {
     "data": {
      "text/plain": [
       "array([1, 3, 4, 3, 5, 6, 1, 3, 5, 6, 1, 3, 5, 6, 4, 5, 6, 3, 1, 3, 5, 7,\n",
       "       6, 8, 9])"
      ]
     },
     "execution_count": 58,
     "metadata": {},
     "output_type": "execute_result"
    }
   ],
   "source": [
    "m[m != 2]"
   ]
  },
  {
   "cell_type": "code",
   "execution_count": 59,
   "metadata": {},
   "outputs": [
    {
     "data": {
      "text/plain": [
       "array([3, 4, 3, 5, 6, 3, 5, 6, 3, 5, 6, 4, 5, 6, 3, 3, 5, 7, 6])"
      ]
     },
     "execution_count": 59,
     "metadata": {},
     "output_type": "execute_result"
    }
   ],
   "source": [
    "# in range of 2 to 8\n",
    "m[(m > 2) & (m < 8)]"
   ]
  },
  {
   "cell_type": "code",
   "execution_count": 60,
   "metadata": {},
   "outputs": [],
   "source": [
    "# user created numpy matrix\n",
    "mat = []\n",
    "for i in range(10):\n",
    "    mat.append(int(input('Enter value')))\n",
    "mat = np.array(mat)"
   ]
  },
  {
   "cell_type": "code",
   "execution_count": 61,
   "metadata": {},
   "outputs": [
    {
     "name": "stdout",
     "output_type": "stream",
     "text": [
      "[2 1 3 2 4 5 5 3 2 1] (10,)\n"
     ]
    }
   ],
   "source": [
    "print(mat, mat.shape)"
   ]
  },
  {
   "cell_type": "code",
   "execution_count": 62,
   "metadata": {},
   "outputs": [
    {
     "name": "stdout",
     "output_type": "stream",
     "text": [
      "[[3 2 5]\n",
      " [2 1 2]] (2, 3)\n"
     ]
    }
   ],
   "source": [
    "# user created numpy matrix\n",
    "mat= []\n",
    "for i in range(2):\n",
    "    smat = []\n",
    "    for j in range(3):\n",
    "        smat.append(int(input('Enter value')))\n",
    "    mat.append(smat)\n",
    "mat = np.array(mat)\n",
    "print(mat, mat.shape)"
   ]
  },
  {
   "cell_type": "code",
   "execution_count": null,
   "metadata": {},
   "outputs": [],
   "source": []
  }
 ],
 "metadata": {
  "kernelspec": {
   "display_name": "Python 3.9.12 ('base')",
   "language": "python",
   "name": "python3"
  },
  "language_info": {
   "codemirror_mode": {
    "name": "ipython",
    "version": 3
   },
   "file_extension": ".py",
   "mimetype": "text/x-python",
   "name": "python",
   "nbconvert_exporter": "python",
   "pygments_lexer": "ipython3",
   "version": "3.9.12"
  },
  "orig_nbformat": 4,
  "vscode": {
   "interpreter": {
    "hash": "193aa6218da7f76a59dc2bd6ea87d2b224c2417ad29cdf12ab4b4772313a8948"
   }
  }
 },
 "nbformat": 4,
 "nbformat_minor": 2
}
