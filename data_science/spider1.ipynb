{
 "cells": [
  {
   "cell_type": "code",
   "execution_count": 1,
   "metadata": {},
   "outputs": [],
   "source": [
    "from dputils import scrape as sc"
   ]
  },
  {
   "cell_type": "code",
   "execution_count": 4,
   "metadata": {},
   "outputs": [],
   "source": [
    "url = 'https://www.amazon.in/s?k=mobile&crid=2MJ2T4U0J5VVT&sprefix=mobil%2Caps%2C906&ref=nb_sb_noss_2'\n",
    "soup = sc.get_webpage_data(url)"
   ]
  },
  {
   "cell_type": "code",
   "execution_count": 5,
   "metadata": {},
   "outputs": [
    {
     "data": {
      "text/plain": [
       "<title>Amazon.in : mobile</title>"
      ]
     },
     "execution_count": 5,
     "metadata": {},
     "output_type": "execute_result"
    }
   ],
   "source": [
    "soup.find('title')"
   ]
  },
  {
   "cell_type": "code",
   "execution_count": 10,
   "metadata": {},
   "outputs": [],
   "source": [
    "target = {\n",
    "    'tag':'div',\n",
    "    'attrs': {\n",
    "        'class':'s-main-slot s-result-list s-search-results sg-row'\n",
    "    }\n",
    "}"
   ]
  },
  {
   "cell_type": "code",
   "execution_count": 23,
   "metadata": {},
   "outputs": [],
   "source": [
    "items = {\n",
    "    'tag':'div',\n",
    "    'attrs': {\n",
    "        'class':'s-result-item'\n",
    "    }\n",
    "}\n",
    "\n",
    "title = {\n",
    "    'tag': 'h2',\n",
    "    'attrs': {\n",
    "        'class':'a-size-mini a-spacing-none a-color-base s-line-clamp-2'\n",
    "    }\n",
    "}\n",
    "\n",
    "price = {\n",
    "    'tag': 'span',\n",
    "    'attrs': {\n",
    "        'class': 'a-price-whole'\n",
    "    }\n",
    "}\n",
    "\n",
    "dprice = {\n",
    "    'tag': 'a',\n",
    "    'attrs': {\n",
    "        'class':'a-size-base a-link-normal s-underline-text s-underline-link-text s-link-style a-text-normal'\n",
    "    }\n",
    "\n",
    "}"
   ]
  },
  {
   "cell_type": "code",
   "execution_count": 28,
   "metadata": {},
   "outputs": [
    {
     "name": "stdout",
     "output_type": "stream",
     "text": [
      "31 items found\n",
      "Item skipped at index: 0\n",
      "Item skipped at index: 1\n",
      "Item skipped at index: 8\n",
      "Item skipped at index: 14\n",
      "Item skipped at index: 18\n",
      "Item skipped at index: 24\n",
      "Item skipped at index: 27\n",
      "Item skipped at index: 28\n",
      "Item skipped at index: 29\n",
      "Item skipped at index: 30\n",
      "All items extracted\n"
     ]
    }
   ],
   "source": [
    "output = sc.extract_many(soup, target=target, items=items, title=title, price=price, dprice=dprice)"
   ]
  },
  {
   "cell_type": "code",
   "execution_count": 29,
   "metadata": {},
   "outputs": [
    {
     "name": "stdout",
     "output_type": "stream",
     "text": [
      "[{'dprice': '₹13,999₹13,999 ₹17,999₹17,999',\n",
      "  'price': '13,999',\n",
      "  'title': 'Samsung Galaxy M13 (Aqua Green, 6GB, 128GB Storage) | 6000mAh '\n",
      "           'Battery | Upto 12GB RAM with RAM Plus | 2000 Instant Discount on '\n",
      "           'SBI Credit Cards Valid Till 10th August'},\n",
      " {'dprice': '₹18,999₹18,999 ₹24,999₹24,999',\n",
      "  'price': '18,999',\n",
      "  'title': 'Samsung Galaxy M33 5G (Mystique Green, 6GB, 128GB Storage) | '\n",
      "           '6000mAh Battery | Upto 12GB RAM with RAM Plus | Travel Adapter to '\n",
      "           'be Purchased Separately'},\n",
      " {'dprice': '₹6,999₹6,999 ₹8,499₹8,499',\n",
      "  'price': '6,999',\n",
      "  'title': 'Redmi 9A Sport (Coral Green, 2GB RAM, 32GB Storage) | 2GHz '\n",
      "           'Octa-core Helio G25 Processor | 5000 mAh Battery'},\n",
      " {'dprice': '₹11,990₹11,990 ₹15,990₹15,990',\n",
      "  'price': '11,990',\n",
      "  'title': 'OPPO A31 (Mystery Black, 6GB RAM, 128GB Storage) with No Cost '\n",
      "           'EMI/Additional Exchange Offers'},\n",
      " {'dprice': '₹14,990₹14,990 ₹20,990₹20,990',\n",
      "  'price': '14,990',\n",
      "  'title': 'OPPO A74 5G (Fantastic Purple,6GB RAM,128GB Storage) with No Cost '\n",
      "           'EMI/Additional Exchange Offers'},\n",
      " {'dprice': '₹39,990₹39,990 ₹74,999₹74,999',\n",
      "  'price': '39,990',\n",
      "  'title': 'Samsung Galaxy S20 FE 5G (Cloud Navy, 8GB RAM, 128GB Storage) with '\n",
      "           'No Cost EMI & Additional Exchange Offers'},\n",
      " {'dprice': '₹8,999₹8,999 ₹10,999₹10,999',\n",
      "  'price': '8,999',\n",
      "  'title': 'Redmi 9 Activ (Coral Green, 4GB RAM, 64GB Storage)'},\n",
      " {'dprice': '₹9,990₹9,990 ₹13,990₹13,990',\n",
      "  'price': '9,990',\n",
      "  'title': 'OPPO A15s (Rainbow Silver, 4GB RAM, 64GB Storage) With No Cost '\n",
      "           'EMI/Additional Exchange Offers'},\n",
      " {'dprice': '₹14,999₹14,999 ₹20,999₹20,999',\n",
      "  'price': '14,999',\n",
      "  'title': 'Redmi Note 11T 5G (Matte Black, 6GB RAM, 128GB ROM)| Dimensity 810 '\n",
      "           '5G | 33W Pro Fast Charging | Charger Included | Additional '\n",
      "           'Exchange Offers|Get 2 Months of YouTube Premium Free!'},\n",
      " {'dprice': '₹12,999₹12,999 ₹16,999₹16,999',\n",
      "  'price': '12,999',\n",
      "  'title': 'Redmi 10 Prime (Phantom Black 6GB RAM 128GB ROM |Helio G88 with '\n",
      "           'extendable RAM Upto 2GB |FHD+ 90Hz Adaptive Sync Display)'},\n",
      " {'dprice': '₹8,799₹8,799 ₹11,999₹11,999',\n",
      "  'price': '8,799',\n",
      "  'title': 'Redmi 10A (Slate Grey, 4GB RAM, 64GB Storage)'},\n",
      " {'dprice': '₹17,990₹17,990 ₹22,990₹22,990',\n",
      "  'price': '17,990',\n",
      "  'title': 'Vivo Y33T (Mirror Black, 8GB RAM, 128GB ROM) Without Offers, '\n",
      "           '(PD2142BF_Mirror Black_1)'},\n",
      " {'dprice': '₹10,999₹10,999 ₹14,999₹14,999',\n",
      "  'price': '10,999',\n",
      "  'title': 'Redmi 10 Prime (Phantom Black 4GB RAM 64GB | Helio G88 with '\n",
      "           'extendable RAM Upto 2GB | FHD+ 90Hz Adaptive Sync Display)'},\n",
      " {'dprice': '₹14,990₹14,990 ₹20,990₹20,990',\n",
      "  'price': '14,990',\n",
      "  'title': 'OPPO A74 5G (Fluid Black, 6GB RAM, 128GB Storage) with No Cost '\n",
      "           'EMI/Additional Exchange Offers'},\n",
      " {'dprice': '₹6,999₹6,999 ₹7,999₹7,999',\n",
      "  'price': '6,999',\n",
      "  'title': 'Redmi 9A Sport (Metallic Blue, 2GB RAM, 32GB Storage) | 2GHz '\n",
      "           'Octa-core Helio G25 Processor | 5000 mAh Battery'},\n",
      " {'dprice': '₹6,999₹6,999 ₹7,999₹7,999',\n",
      "  'price': '6,999',\n",
      "  'title': 'Redmi 9A Sport (Carbon Black, 2GB RAM, 32GB Storage) | 2GHz '\n",
      "           'Octa-core Helio G25 Processor | 5000 mAh Battery'},\n",
      " {'dprice': '₹18,999₹18,999 ₹19,999₹19,999',\n",
      "  'price': '18,999',\n",
      "  'title': 'OnePlus Nord CE 2 Lite 5G (Black Dusk, 6GB RAM, 128GB Storage)'},\n",
      " {'dprice': '₹4,737₹4,737 ₹7,299₹7,299',\n",
      "  'price': '4,737',\n",
      "  'title': 'JioPhone Next 32 GB ROM, 2 GB RAM, Blue Smartphone'},\n",
      " {'dprice': '₹11,999₹11,999 ₹14,999₹14,999',\n",
      "  'price': '11,999',\n",
      "  'title': 'Samsung Galaxy M13 (Midnight Blue, 4GB, 64GB Storage) | 6000mAh '\n",
      "           'Battery | Upto 8GB RAM with RAM Plus | 2000 Instant Discount on '\n",
      "           'SBI Credit Cards Valid Till 10th August'},\n",
      " {'dprice': '₹39,990₹39,990 ₹74,999₹74,999',\n",
      "  'price': '39,990',\n",
      "  'title': 'Samsung Galaxy S20 FE 5G (Cloud Navy, 8GB RAM, 128GB Storage) with '\n",
      "           'No Cost EMI & Additional Exchange Offers'},\n",
      " {'dprice': '₹12,999₹12,999 ₹17,999₹17,999',\n",
      "  'price': '12,999',\n",
      "  'title': 'Redmi Note 11 (Horizon Blue, 4GB RAM, 64GB Storage) | 90Hz FHD+ '\n",
      "           'AMOLED Display | Qualcomm® Snapdragon™ 680-6nm | Alexa Built-in | '\n",
      "           '33W Charger Included | Get 2 Months of YouTube Premium Free!'}]\n"
     ]
    }
   ],
   "source": [
    "from pprint import pprint\n",
    "pprint(output)"
   ]
  },
  {
   "cell_type": "code",
   "execution_count": null,
   "metadata": {},
   "outputs": [],
   "source": []
  }
 ],
 "metadata": {
  "kernelspec": {
   "display_name": "Python 3.9.12 ('base')",
   "language": "python",
   "name": "python3"
  },
  "language_info": {
   "codemirror_mode": {
    "name": "ipython",
    "version": 3
   },
   "file_extension": ".py",
   "mimetype": "text/x-python",
   "name": "python",
   "nbconvert_exporter": "python",
   "pygments_lexer": "ipython3",
   "version": "3.9.12"
  },
  "orig_nbformat": 4,
  "vscode": {
   "interpreter": {
    "hash": "193aa6218da7f76a59dc2bd6ea87d2b224c2417ad29cdf12ab4b4772313a8948"
   }
  }
 },
 "nbformat": 4,
 "nbformat_minor": 2
}
